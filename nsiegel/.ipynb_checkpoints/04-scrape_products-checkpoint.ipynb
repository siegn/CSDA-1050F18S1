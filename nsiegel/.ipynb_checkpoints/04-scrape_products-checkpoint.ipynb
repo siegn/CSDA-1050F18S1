{
 "cells": [
  {
   "cell_type": "markdown",
   "metadata": {
    "toc": true
   },
   "source": [
    "<h1>Table of Contents<span class=\"tocSkip\"></span></h1>\n",
    "<div class=\"toc\"><ul class=\"toc-item\"></ul></div>"
   ]
  },
  {
   "cell_type": "code",
   "execution_count": 2,
   "metadata": {
    "ExecuteTime": {
     "end_time": "2019-07-14T20:55:42.082584Z",
     "start_time": "2019-07-14T20:55:41.200031Z"
    }
   },
   "outputs": [],
   "source": [
    "import pandas as pd\n",
    "import urllib.parse\n",
    "import urllib.request\n",
    "import xml.etree.ElementTree as ET\n",
    "import io\n",
    "from bs4 import BeautifulSoup\n",
    "import time\n",
    "import sys"
   ]
  },
  {
   "cell_type": "code",
   "execution_count": 6,
   "metadata": {
    "ExecuteTime": {
     "end_time": "2019-07-14T20:56:31.035195Z",
     "start_time": "2019-07-14T20:56:31.014349Z"
    }
   },
   "outputs": [
    {
     "data": {
      "text/plain": [
       "50              Sparkling Wine\n",
       "143                   Red Wine\n",
       "198                   Red Wine\n",
       "254                   Red Wine\n",
       "334                      Cider\n",
       "994                   Red Wine\n",
       "996                   Red Wine\n",
       "1039                  Red Wine\n",
       "1079                  Red Wine\n",
       "1170                White Wine\n",
       "1182                          \n",
       "1185                          \n",
       "1235                White Wine\n",
       "1390                     Vodka\n",
       "1493                    Hybrid\n",
       "1543                  Red Wine\n",
       "1632    Gift and Sampler Packs\n",
       "1697                     Vodka\n",
       "1868            Whisky/Whiskey\n",
       "1935                White Wine\n",
       "2260                       Ale\n",
       "2277                          \n",
       "2366                  Red Wine\n",
       "2508                White Wine\n",
       "2601                  Red Wine\n",
       "2620                  Red Wine\n",
       "2643                White Wine\n",
       "3388                  Red Wine\n",
       "3438                       Rum\n",
       "3793                  Red Wine\n",
       "                 ...          \n",
       "5996                  Red Wine\n",
       "6010                White Wine\n",
       "6043                White Wine\n",
       "6060                  Red Wine\n",
       "6384                White Wine\n",
       "6756                       Rum\n",
       "6982                       Ale\n",
       "7037                  Red Wine\n",
       "7117                     Vodka\n",
       "7127                     Vodka\n",
       "7241                  Red Wine\n",
       "7540            Sparkling Wine\n",
       "7545                 Specialty\n",
       "7693                   Icewine\n",
       "7810                  Red Wine\n",
       "7966                    Brandy\n",
       "7968                    Brandy\n",
       "8241                 Specialty\n",
       "8425                          \n",
       "8491                  Red Wine\n",
       "8577                     Lager\n",
       "8635                  Red Wine\n",
       "8829                  Red Wine\n",
       "9019                White Wine\n",
       "9089                     Lager\n",
       "9165                     Lager\n",
       "9250                     Lager\n",
       "9659                    Brandy\n",
       "9666            Whisky/Whiskey\n",
       "9980                  Red Wine\n",
       "Name: categoryname, Length: 85, dtype: object"
      ]
     },
     "execution_count": 6,
     "metadata": {},
     "output_type": "execute_result"
    }
   ],
   "source": [
    "onematch = pd.read_parquet('data/product_info140000.parquet')\n",
    "onematch['categoryname']"
   ]
  },
  {
   "cell_type": "code",
   "execution_count": null,
   "metadata": {
    "ExecuteTime": {
     "end_time": "2019-07-12T02:16:08.650153Z",
     "start_time": "2019-07-12T02:16:08.623560Z"
    }
   },
   "outputs": [],
   "source": [
    "onematch = pd.read_parquet('onematch.parquet')\n",
    "product_ids = pd.read_parquet('product_ids.parquet')"
   ]
  },
  {
   "cell_type": "code",
   "execution_count": null,
   "metadata": {
    "ExecuteTime": {
     "end_time": "2019-07-14T06:12:45.677864Z",
     "start_time": "2019-07-14T06:12:45.644075Z"
    },
    "scrolled": true
   },
   "outputs": [],
   "source": [
    "product_info10000 = pd.read_parquet('product_info10000.parquet')"
   ]
  },
  {
   "cell_type": "code",
   "execution_count": null,
   "metadata": {
    "ExecuteTime": {
     "end_time": "2019-07-14T06:13:25.349860Z",
     "start_time": "2019-07-14T06:13:25.318463Z"
    }
   },
   "outputs": [],
   "source": [
    "product_info10000.dropna().shape"
   ]
  },
  {
   "cell_type": "markdown",
   "metadata": {},
   "source": [
    "Create a list of product ids we want to look up. We can then fill in all of the information about these product ids in a new table."
   ]
  },
  {
   "cell_type": "code",
   "execution_count": null,
   "metadata": {
    "ExecuteTime": {
     "end_time": "2019-07-12T02:41:34.229855Z",
     "start_time": "2019-07-12T02:41:34.207859Z"
    },
    "scrolled": true
   },
   "outputs": [],
   "source": [
    "newIds = (pd.DataFrame(product_ids.ProductID.append(onematch.ProductID).unique(),columns=['ProductID'])\n",
    "          .sort_values('ProductID')\n",
    "          .reset_index(drop=True)\n",
    "         )\n",
    "newIds['Response'] = None\n",
    "newIds['XML'] = None\n",
    "newIds.head()"
   ]
  },
  {
   "cell_type": "markdown",
   "metadata": {},
   "source": [
    "Make a list of ids to pull"
   ]
  },
  {
   "cell_type": "code",
   "execution_count": null,
   "metadata": {
    "ExecuteTime": {
     "end_time": "2019-07-12T04:03:18.478857Z",
     "start_time": "2019-07-12T04:03:18.473000Z"
    }
   },
   "outputs": [],
   "source": [
    "newIds = list(product_ids.ProductID.append(onematch.ProductID).unique())\n",
    "newIds.sort()"
   ]
  },
  {
   "cell_type": "code",
   "execution_count": null,
   "metadata": {
    "ExecuteTime": {
     "end_time": "2019-07-12T04:12:33.284064Z",
     "start_time": "2019-07-12T04:12:33.275102Z"
    }
   },
   "outputs": [],
   "source": [
    "newIds[1:10]"
   ]
  },
  {
   "cell_type": "code",
   "execution_count": null,
   "metadata": {
    "ExecuteTime": {
     "end_time": "2019-07-12T05:03:25.764309Z",
     "start_time": "2019-07-12T04:20:17.464845Z"
    },
    "scrolled": true
   },
   "outputs": [],
   "source": [
    "product_info = scrape_all_info(newIds)"
   ]
  },
  {
   "cell_type": "code",
   "execution_count": null,
   "metadata": {
    "ExecuteTime": {
     "end_time": "2019-07-14T16:46:25.169120Z",
     "start_time": "2019-07-14T16:46:25.162868Z"
    }
   },
   "outputs": [],
   "source": [
    "range(10,20)"
   ]
  },
  {
   "cell_type": "code",
   "execution_count": null,
   "metadata": {
    "ExecuteTime": {
     "start_time": "2019-07-12T15:57:14.221Z"
    },
    "scrolled": true
   },
   "outputs": [],
   "source": [
    "product_info100000 = scrape_all_info2(range(100000))\n",
    "product_info100000.to_parquet('product_info100000.parquet')"
   ]
  },
  {
   "cell_type": "code",
   "execution_count": null,
   "metadata": {
    "ExecuteTime": {
     "start_time": "2019-07-14T16:21:08.700Z"
    }
   },
   "outputs": [],
   "source": [
    "range(1,10)"
   ]
  },
  {
   "cell_type": "code",
   "execution_count": null,
   "metadata": {
    "ExecuteTime": {
     "start_time": "2019-07-14T17:22:22.613Z"
    },
    "scrolled": true
   },
   "outputs": [],
   "source": [
    "for i in range(7,50): # 5,110\n",
    "    maxrange = i * 10000\n",
    "    minrange = (i-1) * 10000 + 1\n",
    "    print('--')\n",
    "    print(str(minrange) + ' to ' + str(maxrange))\n",
    "    product_info_current = scrape_all_info2(range(minrange,maxrange))\n",
    "    product_info_current.to_parquet('product_info'+str(maxrange)+'.parquet')\n",
    "    "
   ]
  },
  {
   "cell_type": "code",
   "execution_count": null,
   "metadata": {
    "ExecuteTime": {
     "end_time": "2019-07-14T15:26:59.500602Z",
     "start_time": "2019-07-14T15:26:59.485280Z"
    }
   },
   "outputs": [],
   "source": [
    "for i in range(5,110):\n",
    "    maxrange = i * 10000\n",
    "    minrange = (i-1) * 10000 + 1\n",
    "    print('--')\n",
    "    print(str(minrange) + ' to ' + str(maxrange))\n",
    "    #product_info_current = scrape_all_info2(range(minrange,maxrange))\n",
    "    #product_info_current.to_parquet('product_info'+str(maxrange)+'.parquet')\n",
    "    "
   ]
  },
  {
   "cell_type": "code",
   "execution_count": null,
   "metadata": {
    "ExecuteTime": {
     "end_time": "2019-07-12T15:56:55.035227Z",
     "start_time": "2019-07-12T15:56:55.022330Z"
    }
   },
   "outputs": [],
   "source": [
    "product_info100000.shape()"
   ]
  },
  {
   "cell_type": "code",
   "execution_count": null,
   "metadata": {
    "ExecuteTime": {
     "end_time": "2019-07-14T15:35:57.929571Z",
     "start_time": "2019-07-14T15:35:57.906543Z"
    }
   },
   "outputs": [],
   "source": [
    "def scrape_all_info2(idlist):\n",
    "    fieldlist = ['language', 'itemnumber', 'itemname', 'price', 'productsize', 'isdiscontinued', 'islimited',\n",
    "                 'am', 'ambonusmiles', 'amexpiration', 'kosher', \n",
    "                 'lto', 'ltoexpiration', 'ltoregularprice', 'ltosavings', \n",
    "                 'releasedate', 'upcnumber', 'sccnumber', 'vao', 'vaodescription', 'vaoexpiration', \n",
    "                 'vqa', 'productquantity', 'producer', 'producingsubregion', 'producingregion', 'producingcountry', \n",
    "                 'alcoholpercentage', 'sugarcontent', 'tastingnotes', 'pairings', \n",
    "                 'itemdescription', 'liquortype', 'categoryname', 'stocktype', 'subcategoryname',\n",
    "                 'sellingpackage', 'sweetnessdescriptor', 'winestyle', 'winevarietal', \n",
    "                 'stylebody', 'stylebody_fr', 'styleflavour', 'styleflavour_fr']\n",
    "\n",
    "    productinfo = pd.DataFrame(columns=fieldlist)\n",
    "    \n",
    "    #timer/counter\n",
    "    start_time = int(time.time())\n",
    "    count = 0\n",
    "    total = len(idlist)\n",
    "    \n",
    "\n",
    "    for id in idlist:\n",
    "        #print(id)\n",
    "        # Pull xml from lcbo api\n",
    "        xmltest = pullXML(str(id))\n",
    "        # Extract dict of values\n",
    "        newitem = parse_item_xml(xmltest, fieldlist)\n",
    "\n",
    "        # Add to our dataframe\n",
    "        productinfo = productinfo.append(newitem,ignore_index=True)\n",
    "        \n",
    "        #counter/timer\n",
    "        end_time = int(time.time())\n",
    "        min_spent = round(((end_time-start_time)/60),2)\n",
    "        remaining_time = round((min_spent/max(count,1))*max((total-count),1),2)\n",
    "\n",
    "        count_str = 'extracted ' + str(count) + '/' + str(total) + \\\n",
    "                ' products in total ' + str(min_spent) + ' minutes' + \\\n",
    "                ' estimated time remaining is ' + str(remaining_time) + ' minutes'\n",
    "        if count % 100 == 0:\n",
    "            sys.stdout.write(\"\\r{}\".format(count_str))\n",
    "        count += 1\n",
    "        \n",
    "        # sleep so we don't get blacklisted\n",
    "        #time.sleep(0.5)\n",
    "        \n",
    "    #save to parquet, also return the pandas dataframe\n",
    "    #productinfo.to_parquet(\"productinfo2.parquet\")\n",
    "    return productinfo"
   ]
  },
  {
   "cell_type": "code",
   "execution_count": null,
   "metadata": {
    "ExecuteTime": {
     "end_time": "2019-07-12T04:20:09.552143Z",
     "start_time": "2019-07-12T04:20:09.534045Z"
    },
    "scrolled": false
   },
   "outputs": [],
   "source": [
    "def scrape_all_info(idlist):\n",
    "    fieldlist = ['language', 'itemnumber', 'itemname', 'price', 'productsize', 'isdiscontinued', 'islimited',\n",
    "                 'am', 'ambonusmiles', 'amexpiration', 'kosher', \n",
    "                 'lto', 'ltoexpiration', 'ltoregularprice', 'ltosavings', \n",
    "                 'releasedate', 'upcnumber', 'sccnumber', 'vao', 'vaodescription', 'vaoexpiration', \n",
    "                 'vqa', 'productquantity', 'producer', 'producingsubregion', 'producingregion', 'producingcountry', \n",
    "                 'alcoholpercentage', 'sugarcontent', 'tastingnotes', 'pairings', \n",
    "                 'itemdescription', 'liquortype', 'categoryname', 'stocktype', 'subcategoryname',\n",
    "                 'sellingpackage', 'sweetnessdescriptor', 'winestyle', 'winevarietal', \n",
    "                 'stylebody', 'stylebody_fr', 'styleflavour', 'styleflavour_fr']\n",
    "\n",
    "    productinfo = pd.DataFrame(columns=fieldlist)\n",
    "    \n",
    "    #timer/counter\n",
    "    start_time = int(time.time())\n",
    "    count = 0\n",
    "    total = len(idlist)\n",
    "\n",
    "    for id in idlist:\n",
    "        print(id)\n",
    "        # Pull xml from lcbo api\n",
    "        xmltest = pullXML(id)\n",
    "        # Extract dict of values\n",
    "        newitem = parse_item_xml(xmltest, fieldlist)\n",
    "\n",
    "        # Add to our dataframe\n",
    "        productinfo = productinfo.append(newitem,ignore_index=True)\n",
    "        \n",
    "        #counter/timer\n",
    "        end_time = int(time.time())\n",
    "        min_spent = round(((end_time-start_time)/60),2)\n",
    "        remaining_time = round((min_spent/max(count,1))*max((total-count),1),2)\n",
    "\n",
    "        count_str = 'extracted ' + str(count) + '/' + str(total) + \\\n",
    "                ' reviews in total ' + str(min_spent) + ' minutes' + \\\n",
    "                ' estimated time remaining is ' + str(remaining_time) + ' minutes'\n",
    "        sys.stdout.write(\"\\r{}\".format(count_str))\n",
    "        count += 1\n",
    "        \n",
    "        # sleep so we don't get blacklisted\n",
    "        time.sleep(3)\n",
    "        \n",
    "    #save to parquet, also return the pandas dataframe\n",
    "    productinfo.to_parquet(\"productinfo.parquet\")\n",
    "    return productinfo"
   ]
  },
  {
   "cell_type": "code",
   "execution_count": null,
   "metadata": {
    "ExecuteTime": {
     "end_time": "2019-07-12T04:18:27.066699Z",
     "start_time": "2019-07-12T04:18:27.058848Z"
    }
   },
   "outputs": [],
   "source": [
    "def parse_item_xml(xmlstring, fieldlist):\n",
    "    soup = BeautifulSoup(xmlstring)\n",
    "    product = soup.find('products')\n",
    "    \n",
    "    newitem = {}\n",
    "    \n",
    "    for field in fieldlist:\n",
    "        value = product.find(field)\n",
    "        if value is not None:\n",
    "            newitem[field] = value.text\n",
    "\n",
    "    return newitem"
   ]
  },
  {
   "cell_type": "code",
   "execution_count": null,
   "metadata": {
    "ExecuteTime": {
     "end_time": "2019-07-12T04:19:12.691975Z",
     "start_time": "2019-07-12T04:19:12.684253Z"
    }
   },
   "outputs": [],
   "source": [
    "def pullXML(ProductID):\n",
    "    url = 'http://www.foodanddrink.ca/lcbo-webapp/productdetail.do?itemNumber=' + ProductID\n",
    "    user_agent = 'Mozilla/5.0 (Windows NT 6.1; Win64; x64)'\n",
    "    values = {'language' : 'en' }\n",
    "    headers = { 'User-Agent' : user_agent }\n",
    "    data = urllib.parse.urlencode(values)\n",
    "    data = data.encode('ascii')\n",
    "    req = urllib.request.Request(url, data, headers)\n",
    "    try:\n",
    "        with urllib.request.urlopen(req) as response:\n",
    "           content = response.read()\n",
    "        return content\n",
    "        #return BeautifulSoup(content, 'xml')\n",
    "    except :\n",
    "        raise response\n",
    "        "
   ]
  }
 ],
 "metadata": {
  "kernelspec": {
   "display_name": "Python 3",
   "language": "python",
   "name": "python3"
  },
  "language_info": {
   "codemirror_mode": {
    "name": "ipython",
    "version": 3
   },
   "file_extension": ".py",
   "mimetype": "text/x-python",
   "name": "python",
   "nbconvert_exporter": "python",
   "pygments_lexer": "ipython3",
   "version": "3.6.8"
  },
  "toc": {
   "base_numbering": 1,
   "nav_menu": {},
   "number_sections": true,
   "sideBar": true,
   "skip_h1_title": true,
   "title_cell": "Table of Contents",
   "title_sidebar": "Contents",
   "toc_cell": true,
   "toc_position": {
    "height": "calc(100% - 180px)",
    "left": "10px",
    "top": "150px",
    "width": "384px"
   },
   "toc_section_display": true,
   "toc_window_display": true
  }
 },
 "nbformat": 4,
 "nbformat_minor": 2
}

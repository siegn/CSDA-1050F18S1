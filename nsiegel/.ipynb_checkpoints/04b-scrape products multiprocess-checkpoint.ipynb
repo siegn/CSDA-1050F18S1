{
 "cells": [
  {
   "cell_type": "markdown",
   "metadata": {
    "toc": true
   },
   "source": [
    "<h1>Table of Contents<span class=\"tocSkip\"></span></h1>\n",
    "<div class=\"toc\"><ul class=\"toc-item\"></ul></div>"
   ]
  },
  {
   "cell_type": "code",
   "execution_count": null,
   "metadata": {
    "ExecuteTime": {
     "start_time": "2019-07-16T19:35:40.801Z"
    }
   },
   "outputs": [],
   "source": [
    "import pandas as pd\n",
    "import urllib.parse\n",
    "import urllib.request\n",
    "import xml.etree.ElementTree as ET\n",
    "import io\n",
    "from bs4 import BeautifulSoup\n",
    "import time\n",
    "import sys\n",
    "import multiprocessing as mp"
   ]
  },
  {
   "cell_type": "code",
   "execution_count": null,
   "metadata": {
    "ExecuteTime": {
     "start_time": "2019-07-16T19:35:40.808Z"
    }
   },
   "outputs": [],
   "source": [
    "def scrape_all_info2(idlist):\n",
    "    fieldlist = ['language', 'itemnumber', 'itemname', 'price', 'productsize', 'isdiscontinued', 'islimited',\n",
    "                 'am', 'ambonusmiles', 'amexpiration', 'kosher', \n",
    "                 'lto', 'ltoexpiration', 'ltoregularprice', 'ltosavings', \n",
    "                 'releasedate', 'upcnumber', 'sccnumber', 'vao', 'vaodescription', 'vaoexpiration', \n",
    "                 'vqa', 'productquantity', 'producer', 'producingsubregion', 'producingregion', 'producingcountry', \n",
    "                 'alcoholpercentage', 'sugarcontent', 'tastingnotes', 'pairings', \n",
    "                 'itemdescription', 'liquortype', 'categoryname', 'stocktype', 'subcategoryname',\n",
    "                 'sellingpackage', 'sweetnessdescriptor', 'winestyle', 'winevarietal', \n",
    "                 'stylebody', 'stylebody_fr', 'styleflavour', 'styleflavour_fr']\n",
    "\n",
    "    productinfo = pd.DataFrame(columns=fieldlist)\n",
    "    \n",
    "    #timer/counter\n",
    "    start_time = int(time.time())\n",
    "    count = 0\n",
    "    total = len(idlist)\n",
    "    \n",
    "    pool = mp.Pool(mp.cpu_count())\n",
    "    for id in idlist:\n",
    "        pool.apply_async(parse_item_xml, args=(str(id),fieldlist), callback =collect_result)\n",
    "        #print(id)\n",
    "        # Pull xml from lcbo api\n",
    "        #xmltest = pullXML(str(id))\n",
    "        # Extract dict of values\n",
    "        #newitem = parse_item_xml(xmltest, fieldlist)\n",
    "\n",
    "        # Add to our dataframe\n",
    "        #productinfo = productinfo.append(newitem,ignore_index=True)\n",
    "    pool.close()\n",
    "    pool.join()\n",
    "    #print(results)\n",
    "    return results\n",
    "        #counter/timer\n",
    "        #end_time = int(time.time())\n",
    "        #min_spent = round(((end_time-start_time)/60),2)\n",
    "        #remaining_time = round((min_spent/max(count,1))*max((total-count),1),2)\n",
    "\n",
    "        #count_str = 'extracted ' + str(count) + '/' + str(total) + \\\n",
    "        #        ' products in total ' + str(min_spent) + ' minutes' + \\\n",
    "        #        ' estimated time remaining is ' + str(remaining_time) + ' minutes'\n",
    "        #if count % 100 == 0:\n",
    "        #    sys.stdout.write(\"\\r{}\".format(count_str))\n",
    "        #count += 1\n",
    "        \n",
    "        # sleep so we don't get blacklisted\n",
    "        #time.sleep(0.5)\n",
    "        \n",
    "    #save to parquet, also return the pandas dataframe\n",
    "    #productinfo.to_parquet(\"productinfo2.parquet\")\n",
    "    #return productinfo"
   ]
  },
  {
   "cell_type": "code",
   "execution_count": null,
   "metadata": {
    "ExecuteTime": {
     "start_time": "2019-07-16T19:35:40.811Z"
    }
   },
   "outputs": [],
   "source": [
    "def collect_result(result):\n",
    "    #print('hi')\n",
    "    global results\n",
    "    #print('------')\n",
    "    #print(result)\n",
    "    results = results.append(result,ignore_index = True)\n",
    "    #print(results)"
   ]
  },
  {
   "cell_type": "code",
   "execution_count": null,
   "metadata": {
    "ExecuteTime": {
     "start_time": "2019-07-16T19:35:40.814Z"
    }
   },
   "outputs": [],
   "source": [
    "def parse_item_xml(id, fieldlist):\n",
    "    #print(id)\n",
    "    #print(fieldlist)\n",
    "    xmlstring = pullXML(id)\n",
    "    #print(xmlstring)\n",
    "    soup = BeautifulSoup(xmlstring)\n",
    "    product = soup.find('products')\n",
    "    \n",
    "    newitem = {}\n",
    "    #print(fieldlist)\n",
    "    for field in fieldlist:\n",
    "        value = product.find(field)\n",
    "        if value is not None:\n",
    "            newitem[field] = value.text\n",
    "    #print(newitem)\n",
    "    return newitem"
   ]
  },
  {
   "cell_type": "code",
   "execution_count": null,
   "metadata": {
    "ExecuteTime": {
     "start_time": "2019-07-16T19:35:40.816Z"
    }
   },
   "outputs": [],
   "source": [
    "def pullXML(ProductID):\n",
    "    url = 'http://www.foodanddrink.ca/lcbo-webapp/productdetail.do?itemNumber=' + ProductID\n",
    "    #print(url)\n",
    "    user_agent = 'Mozilla/5.0 (Windows NT 6.1; Win64; x64)'\n",
    "    values = {'language' : 'en' }\n",
    "    headers = { 'User-Agent' : user_agent }\n",
    "    data = urllib.parse.urlencode(values)\n",
    "    data = data.encode('ascii')\n",
    "    req = urllib.request.Request(url, data, headers)\n",
    "    #print('hi')\n",
    "    try:\n",
    "        with urllib.request.urlopen(req) as response:\n",
    "           content = response.read()\n",
    "        #print(content)\n",
    "        return content\n",
    "        #return BeautifulSoup(content, 'xml')\n",
    "    except :\n",
    "        #print(response)\n",
    "        raise response\n",
    "        "
   ]
  },
  {
   "cell_type": "markdown",
   "metadata": {},
   "source": [
    "The cell below will pull for all item ranges, using a multiprocess in order to execute faster.\n",
    "\n",
    "This will take quite a while. It took about 3 days for me."
   ]
  },
  {
   "cell_type": "code",
   "execution_count": 15,
   "metadata": {
    "ExecuteTime": {
     "end_time": "2019-07-17T01:58:18.598116Z",
     "start_time": "2019-07-17T01:53:20.632802Z"
    }
   },
   "outputs": [
    {
     "name": "stdout",
     "output_type": "stream",
     "text": [
      "--\n",
      "1090001 to 1100000\n"
     ]
    }
   ],
   "source": [
    "fieldlist = ['language', 'itemnumber', 'itemname', 'price', 'productsize', 'isdiscontinued', 'islimited',\n",
    "                 'am', 'ambonusmiles', 'amexpiration', 'kosher', \n",
    "                 'lto', 'ltoexpiration', 'ltoregularprice', 'ltosavings', \n",
    "                 'releasedate', 'upcnumber', 'sccnumber', 'vao', 'vaodescription', 'vaoexpiration', \n",
    "                 'vqa', 'productquantity', 'producer', 'producingsubregion', 'producingregion', 'producingcountry', \n",
    "                 'alcoholpercentage', 'sugarcontent', 'tastingnotes', 'pairings', \n",
    "                 'itemdescription', 'liquortype', 'categoryname', 'stocktype', 'subcategoryname',\n",
    "                 'sellingpackage', 'sweetnessdescriptor', 'winestyle', 'winevarietal', \n",
    "                 'stylebody', 'stylebody_fr', 'styleflavour', 'styleflavour_fr']\n",
    "\n",
    "results = pd.DataFrame(columns=fieldlist)\n",
    "\n",
    "for i in range(1,111):\n",
    "    maxrange = i * 10000\n",
    "    minrange = (i-1) * 10000 + 1\n",
    "    print('--')\n",
    "    print(str(minrange) + ' to ' + str(maxrange))\n",
    "    product_info_current = scrape_all_info2(range(minrange,maxrange)).dropna()\n",
    "    product_info_current.to_parquet('data/product_info'+str(maxrange)+'.parquet')\n",
    "    "
   ]
  }
 ],
 "metadata": {
  "kernelspec": {
   "display_name": "Python 3",
   "language": "python",
   "name": "python3"
  },
  "language_info": {
   "codemirror_mode": {
    "name": "ipython",
    "version": 3
   },
   "file_extension": ".py",
   "mimetype": "text/x-python",
   "name": "python",
   "nbconvert_exporter": "python",
   "pygments_lexer": "ipython3",
   "version": "3.6.8"
  },
  "toc": {
   "base_numbering": 1,
   "nav_menu": {},
   "number_sections": true,
   "sideBar": true,
   "skip_h1_title": true,
   "title_cell": "Table of Contents",
   "title_sidebar": "Contents",
   "toc_cell": true,
   "toc_position": {
    "height": "calc(100% - 180px)",
    "left": "10px",
    "top": "150px",
    "width": "384px"
   },
   "toc_section_display": true,
   "toc_window_display": true
  }
 },
 "nbformat": 4,
 "nbformat_minor": 2
}

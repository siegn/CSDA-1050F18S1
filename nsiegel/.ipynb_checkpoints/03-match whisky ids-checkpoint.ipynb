{
 "cells": [
  {
   "cell_type": "markdown",
   "metadata": {
    "toc": true
   },
   "source": [
    "<h1>Table of Contents<span class=\"tocSkip\"></span></h1>\n",
    "<div class=\"toc\"><ul class=\"toc-item\"></ul></div>"
   ]
  },
  {
   "cell_type": "markdown",
   "metadata": {},
   "source": [
    "#  Summary\n",
    "This notebook looks through the reddit whisky reviews and searches on vintages.com for the whisky name and returns any results. The results of the search are recorded into parquet files depending on whether they have no match, one match ,or multiple matches.\n",
    "\n",
    "At the moment all I am looking for is the product ID so we can pull product details from the lcbo api in the next step."
   ]
  },
  {
   "cell_type": "code",
   "execution_count": null,
   "metadata": {
    "ExecuteTime": {
     "end_time": "2019-07-10T15:49:43.165459Z",
     "start_time": "2019-07-10T15:49:43.160511Z"
    }
   },
   "outputs": [],
   "source": [
    "import pandas as pd\n",
    "from bs4 import BeautifulSoup\n",
    "import urllib.parse\n",
    "import urllib.request\n",
    "import re\n",
    "import time\n",
    "from urllib.error import HTTPError"
   ]
  },
  {
   "cell_type": "code",
   "execution_count": null,
   "metadata": {
    "ExecuteTime": {
     "end_time": "2019-07-10T00:48:53.130942Z",
     "start_time": "2019-07-10T00:48:41.837138Z"
    }
   },
   "outputs": [],
   "source": [
    "rdb = pd.read_excel('redditwhiskeydatabase.xlsx')"
   ]
  },
  {
   "cell_type": "code",
   "execution_count": null,
   "metadata": {
    "ExecuteTime": {
     "end_time": "2019-07-10T00:49:05.832264Z",
     "start_time": "2019-07-10T00:49:05.783278Z"
    }
   },
   "outputs": [],
   "source": [
    "rdb.head()"
   ]
  },
  {
   "cell_type": "code",
   "execution_count": null,
   "metadata": {
    "ExecuteTime": {
     "end_time": "2019-07-10T16:09:28.538618Z",
     "start_time": "2019-07-10T16:09:28.495634Z"
    }
   },
   "outputs": [],
   "source": [
    "uniquewhiskies = rdb.assign(Whisky_Name = lambda x: x['Whisky Name'].str.strip())['Whisky_Name'].unique()"
   ]
  },
  {
   "cell_type": "code",
   "execution_count": null,
   "metadata": {
    "ExecuteTime": {
     "end_time": "2019-07-10T05:02:52.710798Z",
     "start_time": "2019-07-10T05:02:52.705728Z"
    }
   },
   "outputs": [],
   "source": [
    "print(rdb.shape)\n",
    "print(uniquewhiskies.shape)"
   ]
  },
  {
   "cell_type": "code",
   "execution_count": null,
   "metadata": {
    "ExecuteTime": {
     "end_time": "2019-07-10T16:09:31.354108Z",
     "start_time": "2019-07-10T16:09:31.344293Z"
    }
   },
   "outputs": [],
   "source": [
    "uniquewhiskies = pd.DataFrame(uniquewhiskies, columns=['RedditWhiskyName']).reset_index().rename({'index':'RedditWhiskyID'},axis='columns')"
   ]
  },
  {
   "cell_type": "code",
   "execution_count": null,
   "metadata": {
    "ExecuteTime": {
     "end_time": "2019-07-10T16:09:33.810935Z",
     "start_time": "2019-07-10T16:09:33.802159Z"
    }
   },
   "outputs": [],
   "source": [
    "def productSearch(itemname):\n",
    "    # strip out spaces and non ascii characters\n",
    "    itemname = re.sub(r'[^\\x00-\\x7F]+',' ',  itemname.replace(' ','%20'))\n",
    "    url = 'http://www.vintages.com/lcbo-ear/vintages/product/searchResults.do?ITEM_NAME=' + itemname.replace(' ','%20')\n",
    "    user_agent = 'Mozilla/5.0 (Windows NT 6.1; Win64; x64)'\n",
    "    values = {'name' : 'Firstname Lastname',\n",
    "              'location' : 'Toronto',\n",
    "              'language' : 'Python' }\n",
    "    headers = { 'User-Agent' : user_agent }\n",
    "    print(url)\n",
    "    data = urllib.parse.urlencode(values)\n",
    "    data = data.encode('ascii')\n",
    "    req = urllib.request.Request(url, data, headers)\n",
    "    try:\n",
    "        with urllib.request.urlopen(req) as response:\n",
    "           content = response.read()\n",
    "        return BeautifulSoup(content, 'html.parser')\n",
    "    except :\n",
    "        return None"
   ]
  },
  {
   "cell_type": "code",
   "execution_count": null,
   "metadata": {
    "ExecuteTime": {
     "end_time": "2019-07-10T16:09:35.007507Z",
     "start_time": "2019-07-10T16:09:34.994594Z"
    },
    "scrolled": true
   },
   "outputs": [],
   "source": [
    "def getProductIds(itemname):\n",
    "    result = productSearch(itemname)\n",
    "    if result is None:\n",
    "        return None\n",
    "    matches = pd.DataFrame(columns=['Name','ProductID'])\n",
    "    if bool(re.search('Search',str(result.title))):\n",
    "        # More than one result\n",
    "        tables = result.findAll(\"table\", {\"class\": \"search\"})    \n",
    "        for table in tables:\n",
    "            row = table.findAll('a',href=True)\n",
    "            if len(row) == 0:\n",
    "                return None\n",
    "            else:\n",
    "                link = row[1]['href']\n",
    "                name = row[1].text.strip()\n",
    "                productid = re.search('(?<=itemNumber\\=)[0-9]*', link)[0]\n",
    "                matches = matches.append(pd.DataFrame([[name,productid]], columns=['Name','ProductID']),ignore_index=True)\n",
    "    else: \n",
    "        # Only one result\n",
    "        name = result.find(\"input\",{\"name\":\"itemName\"})['value']\n",
    "        productid = result.find(\"input\",{\"name\":\"itemNumber\"})['value']\n",
    "        matches = matches.append(pd.DataFrame([[name,productid]], columns=['Name','ProductID']),ignore_index=True)\n",
    "    \n",
    "    return matches"
   ]
  },
  {
   "cell_type": "code",
   "execution_count": null,
   "metadata": {
    "ExecuteTime": {
     "end_time": "2019-07-10T15:02:41.859896Z",
     "start_time": "2019-07-10T15:02:41.852002Z"
    }
   },
   "outputs": [],
   "source": [
    "uniquewhiskies.iloc[2500]"
   ]
  },
  {
   "cell_type": "code",
   "execution_count": null,
   "metadata": {
    "ExecuteTime": {
     "end_time": "2019-07-11T01:23:22.920376Z",
     "start_time": "2019-07-10T16:09:38.920387Z"
    }
   },
   "outputs": [],
   "source": [
    "nomatch = pd.DataFrame(columns=['RedditWhiskyID','RedditWhiskyName'])\n",
    "onematch = pd.DataFrame(columns=['RedditWhiskyID','RedditWhiskyName','Name','ProductID'])\n",
    "product_ids = pd.DataFrame(columns=['RedditWhiskyID','RedditWhiskyName','Name','ProductID'])\n",
    "for whisky in uniquewhiskies.itertuples():\n",
    "    myId = getProductIds(whisky.RedditWhiskyName)\n",
    "    time.sleep(3)\n",
    "    if myId is None:\n",
    "        nomatch = nomatch.append(pd.DataFrame([[whisky.RedditWhiskyID,whisky.RedditWhiskyName]],\n",
    "                                              columns=['RedditWhiskyID','RedditWhiskyName']))\n",
    "    elif len(myId) == 0:\n",
    "        nomatch = nomatch.append(pd.DataFrame([[whisky.RedditWhiskyID,whisky.RedditWhiskyName]],\n",
    "                                              columns=['RedditWhiskyID','RedditWhiskyName']))\n",
    "    elif len(myId) == 1:\n",
    "        myId['RedditWhiskyID'] = whisky.RedditWhiskyID\n",
    "        myId['RedditWhiskyName'] = whisky.RedditWhiskyName\n",
    "        onematch = onematch.append(myId)\n",
    "    else:\n",
    "        myId['RedditWhiskyID'] = whisky.RedditWhiskyID\n",
    "        myId['RedditWhiskyName'] = whisky.RedditWhiskyName\n",
    "        product_ids = product_ids.append(myId)"
   ]
  },
  {
   "cell_type": "markdown",
   "metadata": {},
   "source": [
    "continuing where we left off:\n"
   ]
  },
  {
   "cell_type": "code",
   "execution_count": null,
   "metadata": {
    "ExecuteTime": {
     "end_time": "2019-07-11T01:23:23.060239Z",
     "start_time": "2019-07-11T01:23:22.923783Z"
    }
   },
   "outputs": [],
   "source": [
    "nomatch.to_parquet('nomatch.parquet')\n",
    "onematch.to_parquet('onematch.parquet')\n",
    "product_ids.to_parquet('product_ids.parquet')"
   ]
  },
  {
   "cell_type": "code",
   "execution_count": null,
   "metadata": {
    "ExecuteTime": {
     "end_time": "2019-07-11T01:41:32.118129Z",
     "start_time": "2019-07-11T01:41:32.112065Z"
    }
   },
   "outputs": [],
   "source": [
    "nomatch.shape"
   ]
  },
  {
   "cell_type": "code",
   "execution_count": null,
   "metadata": {
    "ExecuteTime": {
     "end_time": "2019-07-11T01:41:34.016145Z",
     "start_time": "2019-07-11T01:41:34.010665Z"
    }
   },
   "outputs": [],
   "source": [
    "onematch.shape"
   ]
  },
  {
   "cell_type": "code",
   "execution_count": null,
   "metadata": {
    "ExecuteTime": {
     "end_time": "2019-07-11T01:41:36.137167Z",
     "start_time": "2019-07-11T01:41:36.131502Z"
    }
   },
   "outputs": [],
   "source": [
    "product_ids.shape"
   ]
  },
  {
   "cell_type": "code",
   "execution_count": null,
   "metadata": {
    "ExecuteTime": {
     "end_time": "2019-07-11T01:41:51.230724Z",
     "start_time": "2019-07-11T01:41:51.224603Z"
    }
   },
   "outputs": [],
   "source": [
    "uniquewhiskies.shape"
   ]
  },
  {
   "cell_type": "code",
   "execution_count": null,
   "metadata": {
    "ExecuteTime": {
     "end_time": "2019-07-11T01:56:04.631171Z",
     "start_time": "2019-07-11T01:56:04.586168Z"
    }
   },
   "outputs": [],
   "source": [
    "product_ids"
   ]
  }
 ],
 "metadata": {
  "kernelspec": {
   "display_name": "Python 3",
   "language": "python",
   "name": "python3"
  },
  "language_info": {
   "codemirror_mode": {
    "name": "ipython",
    "version": 3
   },
   "file_extension": ".py",
   "mimetype": "text/x-python",
   "name": "python",
   "nbconvert_exporter": "python",
   "pygments_lexer": "ipython3",
   "version": "3.6.8"
  },
  "toc": {
   "base_numbering": 1,
   "nav_menu": {},
   "number_sections": true,
   "sideBar": true,
   "skip_h1_title": true,
   "title_cell": "Table of Contents",
   "title_sidebar": "Contents",
   "toc_cell": true,
   "toc_position": {
    "height": "calc(100% - 180px)",
    "left": "10px",
    "top": "150px",
    "width": "165px"
   },
   "toc_section_display": true,
   "toc_window_display": true
  }
 },
 "nbformat": 4,
 "nbformat_minor": 2
}

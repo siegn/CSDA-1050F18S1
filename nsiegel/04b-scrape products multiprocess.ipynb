{
 "cells": [
  {
   "cell_type": "markdown",
   "metadata": {
    "toc": true
   },
   "source": [
    "<h1>Table of Contents<span class=\"tocSkip\"></span></h1>\n",
    "<div class=\"toc\"><ul class=\"toc-item\"></ul></div>"
   ]
  },
  {
   "cell_type": "code",
   "execution_count": 62,
   "metadata": {
    "ExecuteTime": {
     "end_time": "2019-07-17T02:43:31.891844Z",
     "start_time": "2019-07-17T02:43:31.886523Z"
    }
   },
   "outputs": [],
   "source": [
    "import pandas as pd\n",
    "import urllib.parse\n",
    "import urllib.request\n",
    "import xml.etree.ElementTree as ET\n",
    "import io\n",
    "from bs4 import BeautifulSoup\n",
    "import time\n",
    "import sys\n",
    "import multiprocessing as mp\n",
    "import numpy as np"
   ]
  },
  {
   "cell_type": "code",
   "execution_count": null,
   "metadata": {
    "ExecuteTime": {
     "start_time": "2019-07-16T19:35:40.808Z"
    }
   },
   "outputs": [],
   "source": [
    "def scrape_all_info2(idlist):\n",
    "    fieldlist = ['language', 'itemnumber', 'itemname', 'price', 'productsize', 'isdiscontinued', 'islimited',\n",
    "                 'am', 'ambonusmiles', 'amexpiration', 'kosher', \n",
    "                 'lto', 'ltoexpiration', 'ltoregularprice', 'ltosavings', \n",
    "                 'releasedate', 'upcnumber', 'sccnumber', 'vao', 'vaodescription', 'vaoexpiration', \n",
    "                 'vqa', 'productquantity', 'producer', 'producingsubregion', 'producingregion', 'producingcountry', \n",
    "                 'alcoholpercentage', 'sugarcontent', 'tastingnotes', 'pairings', \n",
    "                 'itemdescription', 'liquortype', 'categoryname', 'stocktype', 'subcategoryname',\n",
    "                 'sellingpackage', 'sweetnessdescriptor', 'winestyle', 'winevarietal', \n",
    "                 'stylebody', 'stylebody_fr', 'styleflavour', 'styleflavour_fr']\n",
    "\n",
    "    productinfo = pd.DataFrame(columns=fieldlist)\n",
    "    \n",
    "    #timer/counter\n",
    "    start_time = int(time.time())\n",
    "    count = 0\n",
    "    total = len(idlist)\n",
    "    \n",
    "    pool = mp.Pool(mp.cpu_count())\n",
    "    for id in idlist:\n",
    "        pool.apply_async(parse_item_xml, args=(str(id),fieldlist), callback =collect_result)\n",
    "        #print(id)\n",
    "        # Pull xml from lcbo api\n",
    "        #xmltest = pullXML(str(id))\n",
    "        # Extract dict of values\n",
    "        #newitem = parse_item_xml(xmltest, fieldlist)\n",
    "\n",
    "        # Add to our dataframe\n",
    "        #productinfo = productinfo.append(newitem,ignore_index=True)\n",
    "    pool.close()\n",
    "    pool.join()\n",
    "    #print(results)\n",
    "    return results\n",
    "        #counter/timer\n",
    "        #end_time = int(time.time())\n",
    "        #min_spent = round(((end_time-start_time)/60),2)\n",
    "        #remaining_time = round((min_spent/max(count,1))*max((total-count),1),2)\n",
    "\n",
    "        #count_str = 'extracted ' + str(count) + '/' + str(total) + \\\n",
    "        #        ' products in total ' + str(min_spent) + ' minutes' + \\\n",
    "        #        ' estimated time remaining is ' + str(remaining_time) + ' minutes'\n",
    "        #if count % 100 == 0:\n",
    "        #    sys.stdout.write(\"\\r{}\".format(count_str))\n",
    "        #count += 1\n",
    "        \n",
    "        # sleep so we don't get blacklisted\n",
    "        #time.sleep(0.5)\n",
    "        \n",
    "    #save to parquet, also return the pandas dataframe\n",
    "    #productinfo.to_parquet(\"productinfo2.parquet\")\n",
    "    #return productinfo"
   ]
  },
  {
   "cell_type": "code",
   "execution_count": null,
   "metadata": {
    "ExecuteTime": {
     "start_time": "2019-07-16T19:35:40.811Z"
    }
   },
   "outputs": [],
   "source": [
    "def collect_result(result):\n",
    "    #print('hi')\n",
    "    global results\n",
    "    #print('------')\n",
    "    #print(result)\n",
    "    results = results.append(result,ignore_index = True)\n",
    "    #print(results)"
   ]
  },
  {
   "cell_type": "code",
   "execution_count": null,
   "metadata": {
    "ExecuteTime": {
     "start_time": "2019-07-16T19:35:40.814Z"
    }
   },
   "outputs": [],
   "source": [
    "def parse_item_xml(id, fieldlist):\n",
    "    #print(id)\n",
    "    #print(fieldlist)\n",
    "    xmlstring = pullXML(id)\n",
    "    #print(xmlstring)\n",
    "    soup = BeautifulSoup(xmlstring)\n",
    "    product = soup.find('products')\n",
    "    \n",
    "    newitem = {}\n",
    "    #print(fieldlist)\n",
    "    for field in fieldlist:\n",
    "        value = product.find(field)\n",
    "        if value is not None:\n",
    "            newitem[field] = value.text\n",
    "    #print(newitem)\n",
    "    return newitem"
   ]
  },
  {
   "cell_type": "code",
   "execution_count": null,
   "metadata": {
    "ExecuteTime": {
     "start_time": "2019-07-16T19:35:40.816Z"
    }
   },
   "outputs": [],
   "source": [
    "def pullXML(ProductID):\n",
    "    url = 'http://www.foodanddrink.ca/lcbo-webapp/productdetail.do?itemNumber=' + ProductID\n",
    "    #print(url)\n",
    "    user_agent = 'Mozilla/5.0 (Windows NT 6.1; Win64; x64)'\n",
    "    values = {'language' : 'en' }\n",
    "    headers = { 'User-Agent' : user_agent }\n",
    "    data = urllib.parse.urlencode(values)\n",
    "    data = data.encode('ascii')\n",
    "    req = urllib.request.Request(url, data, headers)\n",
    "    #print('hi')\n",
    "    try:\n",
    "        with urllib.request.urlopen(req) as response:\n",
    "           content = response.read()\n",
    "        #print(content)\n",
    "        return content\n",
    "        #return BeautifulSoup(content, 'xml')\n",
    "    except :\n",
    "        #print(response)\n",
    "        raise response\n",
    "        "
   ]
  },
  {
   "cell_type": "markdown",
   "metadata": {},
   "source": [
    "The cell below will pull for all item ranges, using a multiprocess in order to execute faster.\n",
    "\n",
    "This will take quite a while. It took about 3 days for me."
   ]
  },
  {
   "cell_type": "code",
   "execution_count": 15,
   "metadata": {
    "ExecuteTime": {
     "end_time": "2019-07-17T01:58:18.598116Z",
     "start_time": "2019-07-17T01:53:20.632802Z"
    }
   },
   "outputs": [
    {
     "name": "stdout",
     "output_type": "stream",
     "text": [
      "--\n",
      "1090001 to 1100000\n"
     ]
    }
   ],
   "source": [
    "fieldlist = ['language', 'itemnumber', 'itemname', 'price', 'productsize', 'isdiscontinued', 'islimited',\n",
    "                 'am', 'ambonusmiles', 'amexpiration', 'kosher', \n",
    "                 'lto', 'ltoexpiration', 'ltoregularprice', 'ltosavings', \n",
    "                 'releasedate', 'upcnumber', 'sccnumber', 'vao', 'vaodescription', 'vaoexpiration', \n",
    "                 'vqa', 'productquantity', 'producer', 'producingsubregion', 'producingregion', 'producingcountry', \n",
    "                 'alcoholpercentage', 'sugarcontent', 'tastingnotes', 'pairings', \n",
    "                 'itemdescription', 'liquortype', 'categoryname', 'stocktype', 'subcategoryname',\n",
    "                 'sellingpackage', 'sweetnessdescriptor', 'winestyle', 'winevarietal', \n",
    "                 'stylebody', 'stylebody_fr', 'styleflavour', 'styleflavour_fr']\n",
    "\n",
    "results = pd.DataFrame(columns=fieldlist)\n",
    "\n",
    "for i in range(1,111):\n",
    "    maxrange = i * 10000\n",
    "    minrange = (i-1) * 10000 + 1\n",
    "    print('--')\n",
    "    print(str(minrange) + ' to ' + str(maxrange))\n",
    "    product_info_current = scrape_all_info2(range(minrange,maxrange)).dropna()\n",
    "    product_info_current.to_parquet('data/product_info'+str(maxrange)+'.parquet')\n",
    "    "
   ]
  },
  {
   "cell_type": "markdown",
   "metadata": {},
   "source": [
    "Now let's consolidate all the files we've scraped:"
   ]
  },
  {
   "cell_type": "code",
   "execution_count": 99,
   "metadata": {
    "ExecuteTime": {
     "end_time": "2019-07-17T03:45:32.591546Z",
     "start_time": "2019-07-17T03:45:29.738254Z"
    }
   },
   "outputs": [],
   "source": [
    "from pathlib import Path\n",
    "import pandas as pd\n",
    "\n",
    "data_dir = Path('data/')\n",
    "full_df = pd.concat(\n",
    "    pd.read_parquet(parquet_file)\n",
    "    for parquet_file in data_dir.glob('product_info*.parquet')\n",
    ")"
   ]
  },
  {
   "cell_type": "code",
   "execution_count": 100,
   "metadata": {
    "ExecuteTime": {
     "end_time": "2019-07-17T03:45:36.232095Z",
     "start_time": "2019-07-17T03:45:34.991591Z"
    }
   },
   "outputs": [],
   "source": [
    "full_df = full_df.dropna()"
   ]
  },
  {
   "cell_type": "markdown",
   "metadata": {},
   "source": [
    "Fix datatypes:"
   ]
  },
  {
   "cell_type": "code",
   "execution_count": 101,
   "metadata": {
    "ExecuteTime": {
     "end_time": "2019-07-17T03:45:37.755709Z",
     "start_time": "2019-07-17T03:45:37.744670Z"
    },
    "scrolled": true
   },
   "outputs": [
    {
     "data": {
      "text/plain": [
       "language               object\n",
       "itemnumber             object\n",
       "itemname               object\n",
       "price                  object\n",
       "productsize            object\n",
       "isdiscontinued         object\n",
       "islimited              object\n",
       "am                     object\n",
       "ambonusmiles           object\n",
       "amexpiration           object\n",
       "kosher                 object\n",
       "lto                    object\n",
       "ltoexpiration          object\n",
       "ltoregularprice        object\n",
       "ltosavings             object\n",
       "releasedate            object\n",
       "upcnumber              object\n",
       "sccnumber              object\n",
       "vao                    object\n",
       "vaodescription         object\n",
       "vaoexpiration          object\n",
       "vqa                    object\n",
       "productquantity        object\n",
       "producer               object\n",
       "producingsubregion     object\n",
       "producingregion        object\n",
       "producingcountry       object\n",
       "alcoholpercentage      object\n",
       "sugarcontent           object\n",
       "tastingnotes           object\n",
       "pairings               object\n",
       "itemdescription        object\n",
       "liquortype             object\n",
       "categoryname           object\n",
       "stocktype              object\n",
       "subcategoryname        object\n",
       "sellingpackage         object\n",
       "sweetnessdescriptor    object\n",
       "winestyle              object\n",
       "winevarietal           object\n",
       "stylebody              object\n",
       "stylebody_fr           object\n",
       "styleflavour           object\n",
       "styleflavour_fr        object\n",
       "dtype: object"
      ]
     },
     "execution_count": 101,
     "metadata": {},
     "output_type": "execute_result"
    }
   ],
   "source": [
    "full_df.dtypes"
   ]
  },
  {
   "cell_type": "code",
   "execution_count": 182,
   "metadata": {
    "ExecuteTime": {
     "end_time": "2019-07-17T04:23:17.380794Z",
     "start_time": "2019-07-17T04:22:57.710439Z"
    }
   },
   "outputs": [],
   "source": [
    "full_df=pd.read_parquet('data/productinfo_combined.parquet')\n",
    "\n",
    "# TODO: a lot of these are just patterns that repeat so could be made into functions, \n",
    "#or ideally loop through all columns in one go.\n",
    "pd.options.mode.chained_assignment = None\n",
    "full_df['language']            = full_df['language'].astype('str')\n",
    "full_df['itemnumber']          = full_df['itemnumber'].astype(int)\n",
    "full_df['itemname']            = full_df['itemname'].astype('str')\n",
    "\n",
    "# Strip the $ From price\n",
    "full_df['price']               = full_df['price'].str.replace('$', '', case=False, regex=False).astype(float)\n",
    "                                                    \n",
    "# Strip productsize into quantity, volume and remove ml\n",
    "full_df['quantity']            = (full_df['productsize'].replace('N/A', None)\n",
    "                                                        .str.extract('(^.*)(?=x)')\n",
    "                                                        .replace(np.nan,'1')\n",
    "                                                        .astype(int)\n",
    "                                 )\n",
    "\n",
    "full_df['productsize']          = (full_df['productsize'].replace('(^.*x)','',regex=True)\n",
    "                                                          .str.extract('(\\d*)')\n",
    "                                                          .replace('',None,regex=False)\n",
    "                                                          .astype(int)\n",
    "                                  )\n",
    "\n",
    "full_df['isdiscontinued']      = full_df['isdiscontinued'].astype(bool)\n",
    "full_df['islimited']           = full_df['islimited'].astype(bool)\n",
    "\n",
    "# Convert N to False and Y to True\n",
    "full_df['am']                  = full_df['am'] == 'Y'\n",
    "\n",
    "full_df['ambonusmiles']        = full_df['ambonusmiles'].replace('','0',regex=False).astype(int)\n",
    "full_df['amexpiration']        = pd.to_datetime(full_df.amexpiration.replace(\"N/A\",'',regex=False))\n",
    "\n",
    "full_df['kosher']              = full_df['kosher'] == 'Y'\n",
    "full_df['lto']                 = full_df['lto'] == 'Y'\n",
    "\n",
    "full_df['ltoexpiration']       = pd.to_datetime(full_df.ltoexpiration.replace(\"N/A\",'',regex=False))\n",
    "full_df['ltoregularprice']     = full_df['ltoregularprice'].str.replace('$', '', case=False, regex=False).astype(float)\n",
    "full_df['ltosavings']          = full_df['ltosavings'].str.replace('$', '', case=False, regex=False).astype(float)\n",
    "\n",
    "full_df['releasedate']         = pd.to_datetime(full_df.releasedate.replace(\"N/A\",'',regex=False))\n",
    "\n",
    "full_df['upcnumber']           = full_df['upcnumber'].astype(int)\n",
    "full_df['sccnumber']           = full_df['sccnumber'].astype(int)\n",
    "\n",
    "full_df['vao']                 = full_df['vao'] == 'Y'\n",
    "full_df['vaodescription']      = full_df['vaodescription'].astype('str')\n",
    "full_df['vaoexpiration']       = pd.to_datetime(full_df.vaoexpiration.replace(\"N/A\",'',regex=False))\n",
    "\n",
    "full_df['vqa']                 = full_df['vqa'] == 'Y'\n",
    "full_df['productquantity']     = full_df['productquantity'].astype(int)\n",
    "\n",
    "full_df['producer']            = full_df['producer'].astype(str)\n",
    "full_df['producingsubregion']  = full_df['producingsubregion'].astype(str)\n",
    "full_df['producingregion']     = full_df['producingregion'].astype(str)\n",
    "full_df['producingcountry']    = full_df['producingcountry'].astype(str)\n",
    "\n",
    "full_df['alcoholpercentage']   = (full_df['alcoholpercentage'].replace('\\%', '', regex=True)\n",
    "                                                              .replace(\"N/A\",'',regex=False)\n",
    "                                                              .replace('','0', regex=False)\n",
    "                                                              .astype(float)\n",
    "                                 )\n",
    "\n",
    "full_df['sugarcontent']        = full_df['sugarcontent'].str.extract('(\\d*)')\n",
    "full_df['tastingnotes']        = full_df['tastingnotes'].astype(str)\n",
    "full_df['pairings']            = full_df['pairings'].astype(str)\n",
    "full_df['itemdescription']     = full_df['itemdescription'].astype(str)\n",
    "full_df['liquortype']          = full_df['liquortype'].astype(str)\n",
    "full_df['categoryname']        = full_df['categoryname'].astype(str)\n",
    "full_df['stocktype']           = full_df['stocktype'].astype(str)\n",
    "full_df['subcategoryname']     = full_df['subcategoryname'].astype(str)\n",
    "full_df['sellingpackage']      = full_df['sellingpackage'].astype(str)\n",
    "full_df['sweetnessdescriptor'] = full_df['sweetnessdescriptor'].astype(str)\n",
    "full_df['winestyle']           = full_df['winestyle'].astype(str)\n",
    "full_df['winevarietal']        = full_df['winevarietal'].astype(str)\n",
    "full_df['stylebody']           = full_df['stylebody'].astype(str)\n",
    "full_df['stylebody_fr']        = full_df['stylebody_fr'].astype(str)\n",
    "full_df['styleflavour']        = full_df['styleflavour'].astype(str)\n",
    "full_df['styleflavour_fr']     = full_df['styleflavour_fr'].astype(str)"
   ]
  },
  {
   "cell_type": "code",
   "execution_count": 183,
   "metadata": {
    "ExecuteTime": {
     "end_time": "2019-07-17T04:23:31.098948Z",
     "start_time": "2019-07-17T04:23:30.007984Z"
    }
   },
   "outputs": [],
   "source": [
    "full_df.to_parquet('data/lcbo_productinfo.parquet')"
   ]
  },
  {
   "cell_type": "markdown",
   "metadata": {},
   "source": [
    "And let's take a look at the distribution of product codes:"
   ]
  },
  {
   "cell_type": "code",
   "execution_count": 172,
   "metadata": {
    "ExecuteTime": {
     "end_time": "2019-07-17T04:19:16.222012Z",
     "start_time": "2019-07-17T04:19:16.210770Z"
    }
   },
   "outputs": [
    {
     "data": {
      "text/plain": [
       "language                       object\n",
       "itemnumber                      int64\n",
       "itemname                       object\n",
       "price                         float64\n",
       "productsize                     int64\n",
       "isdiscontinued                   bool\n",
       "islimited                        bool\n",
       "am                               bool\n",
       "ambonusmiles                    int64\n",
       "amexpiration           datetime64[ns]\n",
       "kosher                           bool\n",
       "lto                              bool\n",
       "ltoexpiration          datetime64[ns]\n",
       "ltoregularprice               float64\n",
       "ltosavings                    float64\n",
       "releasedate            datetime64[ns]\n",
       "upcnumber                       int64\n",
       "sccnumber                       int64\n",
       "vao                              bool\n",
       "vaodescription                 object\n",
       "vaoexpiration          datetime64[ns]\n",
       "vqa                              bool\n",
       "productquantity                 int64\n",
       "producer                       object\n",
       "producingsubregion             object\n",
       "producingregion                object\n",
       "producingcountry               object\n",
       "alcoholpercentage             float64\n",
       "sugarcontent                   object\n",
       "tastingnotes                   object\n",
       "pairings                       object\n",
       "itemdescription                object\n",
       "liquortype                     object\n",
       "categoryname                   object\n",
       "stocktype                      object\n",
       "subcategoryname                object\n",
       "sellingpackage                 object\n",
       "sweetnessdescriptor            object\n",
       "winestyle                      object\n",
       "winevarietal                   object\n",
       "stylebody                      object\n",
       "stylebody_fr                   object\n",
       "styleflavour                   object\n",
       "styleflavour_fr                object\n",
       "quantity                        int64\n",
       "dtype: object"
      ]
     },
     "execution_count": 172,
     "metadata": {},
     "output_type": "execute_result"
    }
   ],
   "source": [
    "full_df.dtypes"
   ]
  },
  {
   "cell_type": "code",
   "execution_count": 179,
   "metadata": {
    "ExecuteTime": {
     "end_time": "2019-07-17T04:20:42.753043Z",
     "start_time": "2019-07-17T04:20:42.311551Z"
    }
   },
   "outputs": [
    {
     "data": {
      "image/png": "[encoded data removed]",
      "text/plain": [
       "<Figure size 432x288 with 1 Axes>"
      ]
     },
     "metadata": {
      "needs_background": "light"
     },
     "output_type": "display_data"
    }
   ],
   "source": [
    "hist = full_df.hist(column = 'itemnumber', bins = 50)"
   ]
  },
  {
   "cell_type": "code",
   "execution_count": 175,
   "metadata": {
    "ExecuteTime": {
     "end_time": "2019-07-17T04:19:59.137833Z",
     "start_time": "2019-07-17T04:19:59.129664Z"
    }
   },
   "outputs": [
    {
     "data": {
      "text/plain": [
       "997353"
      ]
     },
     "execution_count": 175,
     "metadata": {},
     "output_type": "execute_result"
    }
   ],
   "source": [
    "full_df.itemnumber.max()"
   ]
  }
 ],
 "metadata": {
  "kernelspec": {
   "display_name": "Python 3",
   "language": "python",
   "name": "python3"
  },
  "language_info": {
   "codemirror_mode": {
    "name": "ipython",
    "version": 3
   },
   "file_extension": ".py",
   "mimetype": "text/x-python",
   "name": "python",
   "nbconvert_exporter": "python",
   "pygments_lexer": "ipython3",
   "version": "3.6.8"
  },
  "toc": {
   "base_numbering": 1,
   "nav_menu": {},
   "number_sections": true,
   "sideBar": true,
   "skip_h1_title": true,
   "title_cell": "Table of Contents",
   "title_sidebar": "Contents",
   "toc_cell": true,
   "toc_position": {
    "height": "calc(100% - 180px)",
    "left": "10px",
    "top": "150px",
    "width": "384px"
   },
   "toc_section_display": true,
   "toc_window_display": true
  }
 },
 "nbformat": 4,
 "nbformat_minor": 2
}

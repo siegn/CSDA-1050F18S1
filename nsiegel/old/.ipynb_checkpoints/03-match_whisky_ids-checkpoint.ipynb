{
 "cells": [
  {
   "cell_type": "markdown",
   "metadata": {
    "toc": true
   },
   "source": [
    "<h1>Table of Contents<span class=\"tocSkip\"></span></h1>\n",
    "<div class=\"toc\"><ul class=\"toc-item\"></ul></div>"
   ]
  },
  {
   "cell_type": "markdown",
   "metadata": {},
   "source": [
    "#  Summary\n",
    "This notebook looks through the reddit whisky reviews and searches on vintages.com for the whisky name and returns any results. The results of the search are recorded into parquet files depending on whether they have no match, one match ,or multiple matches.\n",
    "\n",
    "At the moment all I am looking for is the product ID so we can pull product details from the lcbo api in the next step."
   ]
  },
  {
   "cell_type": "code",
   "execution_count": 1,
   "metadata": {
    "ExecuteTime": {
     "end_time": "2019-07-18T02:19:18.238579Z",
     "start_time": "2019-07-18T02:19:17.481484Z"
    }
   },
   "outputs": [],
   "source": [
    "import pandas as pd\n",
    "from bs4 import BeautifulSoup\n",
    "import urllib.parse\n",
    "import urllib.request\n",
    "import re\n",
    "import time\n",
    "from urllib.error import HTTPError"
   ]
  },
  {
   "cell_type": "code",
   "execution_count": 3,
   "metadata": {
    "ExecuteTime": {
     "end_time": "2019-07-18T02:19:46.773267Z",
     "start_time": "2019-07-18T02:19:33.261100Z"
    }
   },
   "outputs": [],
   "source": [
    "rdb = pd.read_excel('data/redditwhiskeydatabase.xlsx')"
   ]
  },
  {
   "cell_type": "code",
   "execution_count": 4,
   "metadata": {
    "ExecuteTime": {
     "end_time": "2019-07-18T02:20:48.999679Z",
     "start_time": "2019-07-18T02:20:48.959466Z"
    }
   },
   "outputs": [
    {
     "data": {
      "text/html": [
       "<div>\n",
       "<style scoped>\n",
       "    .dataframe tbody tr th:only-of-type {\n",
       "        vertical-align: middle;\n",
       "    }\n",
       "\n",
       "    .dataframe tbody tr th {\n",
       "        vertical-align: top;\n",
       "    }\n",
       "\n",
       "    .dataframe thead th {\n",
       "        text-align: right;\n",
       "    }\n",
       "</style>\n",
       "<table border=\"1\" class=\"dataframe\">\n",
       "  <thead>\n",
       "    <tr style=\"text-align: right;\">\n",
       "      <th></th>\n",
       "      <th>Timestamp</th>\n",
       "      <th>Whisky Name</th>\n",
       "      <th>Reviewer's Reddit Username</th>\n",
       "      <th>Link To Reddit Review</th>\n",
       "      <th>Reviewer Rating</th>\n",
       "      <th>Whisky Region or Style</th>\n",
       "      <th>Full Bottle Price Paid</th>\n",
       "      <th>Date of Review</th>\n",
       "    </tr>\n",
       "  </thead>\n",
       "  <tbody>\n",
       "    <tr>\n",
       "      <th>0</th>\n",
       "      <td>2012-12-14 10:03:18</td>\n",
       "      <td>100 Pipers</td>\n",
       "      <td>merlinblack</td>\n",
       "      <td>http://www.reddit.com/r/Scotch/comments/14uder...</td>\n",
       "      <td>68</td>\n",
       "      <td>Blend</td>\n",
       "      <td>NaN</td>\n",
       "      <td>12/14/12</td>\n",
       "    </tr>\n",
       "    <tr>\n",
       "      <th>1</th>\n",
       "      <td>2018-11-04 00:50:38.789000</td>\n",
       "      <td>1792 225th Anniversary</td>\n",
       "      <td>scottmotorrad</td>\n",
       "      <td>https://www.reddit.com/r/bourbon/comments/9ssq...</td>\n",
       "      <td>8</td>\n",
       "      <td>Bourbon</td>\n",
       "      <td>NaN</td>\n",
       "      <td>10/30/18</td>\n",
       "    </tr>\n",
       "    <tr>\n",
       "      <th>2</th>\n",
       "      <td>2017-11-17 08:15:21.922000</td>\n",
       "      <td>1792 225th Anniversary</td>\n",
       "      <td>WildOscar66</td>\n",
       "      <td>https://www.reddit.com/r/bourbon/comments/7445...</td>\n",
       "      <td>80</td>\n",
       "      <td>Bourbon</td>\n",
       "      <td>NaN</td>\n",
       "      <td>10/17/17</td>\n",
       "    </tr>\n",
       "    <tr>\n",
       "      <th>3</th>\n",
       "      <td>2018-11-04 00:49:14.921000</td>\n",
       "      <td>1792 Bottled In Bond</td>\n",
       "      <td>scottmotorrad</td>\n",
       "      <td>https://www.reddit.com/r/bourbon/comments/9ryi...</td>\n",
       "      <td>80</td>\n",
       "      <td>Bourbon</td>\n",
       "      <td>34.99</td>\n",
       "      <td>10/27/18</td>\n",
       "    </tr>\n",
       "    <tr>\n",
       "      <th>4</th>\n",
       "      <td>2018-12-19 00:38:02.415000</td>\n",
       "      <td>1792 Bottled In Bond Oak Liquor Cabinet Pick</td>\n",
       "      <td>scottmotorrad</td>\n",
       "      <td>https://www.reddit.com/r/bourbon/comments/a7jw...</td>\n",
       "      <td>90</td>\n",
       "      <td>Bourbon</td>\n",
       "      <td>NaN</td>\n",
       "      <td>12/19/2018</td>\n",
       "    </tr>\n",
       "  </tbody>\n",
       "</table>\n",
       "</div>"
      ],
      "text/plain": [
       "                    Timestamp                                   Whisky Name  \\\n",
       "0         2012-12-14 10:03:18                                    100 Pipers   \n",
       "1  2018-11-04 00:50:38.789000                       1792 225th Anniversary    \n",
       "2  2017-11-17 08:15:21.922000                       1792 225th Anniversary    \n",
       "3  2018-11-04 00:49:14.921000                          1792 Bottled In Bond   \n",
       "4  2018-12-19 00:38:02.415000  1792 Bottled In Bond Oak Liquor Cabinet Pick   \n",
       "\n",
       "  Reviewer's Reddit Username  \\\n",
       "0                merlinblack   \n",
       "1              scottmotorrad   \n",
       "2                WildOscar66   \n",
       "3              scottmotorrad   \n",
       "4              scottmotorrad   \n",
       "\n",
       "                               Link To Reddit Review Reviewer Rating  \\\n",
       "0  http://www.reddit.com/r/Scotch/comments/14uder...              68   \n",
       "1  https://www.reddit.com/r/bourbon/comments/9ssq...               8   \n",
       "2  https://www.reddit.com/r/bourbon/comments/7445...              80   \n",
       "3  https://www.reddit.com/r/bourbon/comments/9ryi...              80   \n",
       "4  https://www.reddit.com/r/bourbon/comments/a7jw...              90   \n",
       "\n",
       "  Whisky Region or Style Full Bottle Price Paid Date of Review  \n",
       "0                  Blend                    NaN       12/14/12  \n",
       "1                Bourbon                    NaN       10/30/18  \n",
       "2                Bourbon                    NaN       10/17/17  \n",
       "3                Bourbon                  34.99       10/27/18  \n",
       "4                Bourbon                    NaN     12/19/2018  "
      ]
     },
     "execution_count": 4,
     "metadata": {},
     "output_type": "execute_result"
    }
   ],
   "source": [
    "rdb.head()"
   ]
  },
  {
   "cell_type": "code",
   "execution_count": 5,
   "metadata": {
    "ExecuteTime": {
     "end_time": "2019-07-18T02:20:53.693176Z",
     "start_time": "2019-07-18T02:20:53.651290Z"
    }
   },
   "outputs": [],
   "source": [
    "uniquewhiskies = rdb.assign(Whisky_Name = lambda x: x['Whisky Name'].str.strip())['Whisky_Name'].unique()"
   ]
  },
  {
   "cell_type": "code",
   "execution_count": 6,
   "metadata": {
    "ExecuteTime": {
     "end_time": "2019-07-18T02:21:03.828061Z",
     "start_time": "2019-07-18T02:21:03.822979Z"
    }
   },
   "outputs": [
    {
     "name": "stdout",
     "output_type": "stream",
     "text": [
      "(31892, 8)\n",
      "(10151,)\n"
     ]
    }
   ],
   "source": [
    "print(rdb.shape)\n",
    "print(uniquewhiskies.shape)"
   ]
  },
  {
   "cell_type": "code",
   "execution_count": 7,
   "metadata": {
    "ExecuteTime": {
     "end_time": "2019-07-18T02:21:08.089874Z",
     "start_time": "2019-07-18T02:21:08.077481Z"
    }
   },
   "outputs": [],
   "source": [
    "uniquewhiskies = pd.DataFrame(uniquewhiskies, columns=['RedditWhiskyName']).reset_index().rename({'index':'RedditWhiskyID'},axis='columns')"
   ]
  },
  {
   "cell_type": "code",
   "execution_count": null,
   "metadata": {
    "ExecuteTime": {
     "end_time": "2019-07-10T16:09:33.810935Z",
     "start_time": "2019-07-10T16:09:33.802159Z"
    }
   },
   "outputs": [],
   "source": [
    "def productSearch(itemname):\n",
    "    # strip out spaces and non ascii characters\n",
    "    itemname = re.sub(r'[^\\x00-\\x7F]+',' ',  itemname.replace(' ','%20'))\n",
    "    url = 'http://www.vintages.com/lcbo-ear/vintages/product/searchResults.do?ITEM_NAME=' + itemname.replace(' ','%20')\n",
    "    user_agent = 'Mozilla/5.0 (Windows NT 6.1; Win64; x64)'\n",
    "    values = {'name' : 'Firstname Lastname',\n",
    "              'location' : 'Toronto',\n",
    "              'language' : 'Python' }\n",
    "    headers = { 'User-Agent' : user_agent }\n",
    "    print(url)\n",
    "    data = urllib.parse.urlencode(values)\n",
    "    data = data.encode('ascii')\n",
    "    req = urllib.request.Request(url, data, headers)\n",
    "    try:\n",
    "        with urllib.request.urlopen(req) as response:\n",
    "           content = response.read()\n",
    "        return BeautifulSoup(content, 'html.parser')\n",
    "    except :\n",
    "        return None"
   ]
  },
  {
   "cell_type": "code",
   "execution_count": null,
   "metadata": {
    "ExecuteTime": {
     "end_time": "2019-07-10T16:09:35.007507Z",
     "start_time": "2019-07-10T16:09:34.994594Z"
    },
    "scrolled": true
   },
   "outputs": [],
   "source": [
    "def getProductIds(itemname):\n",
    "    result = productSearch(itemname)\n",
    "    if result is None:\n",
    "        return None\n",
    "    matches = pd.DataFrame(columns=['Name','ProductID'])\n",
    "    if bool(re.search('Search',str(result.title))):\n",
    "        # More than one result\n",
    "        tables = result.findAll(\"table\", {\"class\": \"search\"})    \n",
    "        for table in tables:\n",
    "            row = table.findAll('a',href=True)\n",
    "            if len(row) == 0:\n",
    "                return None\n",
    "            else:\n",
    "                link = row[1]['href']\n",
    "                name = row[1].text.strip()\n",
    "                productid = re.search('(?<=itemNumber\\=)[0-9]*', link)[0]\n",
    "                matches = matches.append(pd.DataFrame([[name,productid]], columns=['Name','ProductID']),ignore_index=True)\n",
    "    else: \n",
    "        # Only one result\n",
    "        name = result.find(\"input\",{\"name\":\"itemName\"})['value']\n",
    "        productid = result.find(\"input\",{\"name\":\"itemNumber\"})['value']\n",
    "        matches = matches.append(pd.DataFrame([[name,productid]], columns=['Name','ProductID']),ignore_index=True)\n",
    "    \n",
    "    return matches"
   ]
  },
  {
   "cell_type": "code",
   "execution_count": 8,
   "metadata": {
    "ExecuteTime": {
     "end_time": "2019-07-18T02:21:13.798450Z",
     "start_time": "2019-07-18T02:21:13.789885Z"
    }
   },
   "outputs": [
    {
     "data": {
      "text/plain": [
       "RedditWhiskyID                           2500\n",
       "RedditWhiskyName    Caol Ila 12 Cask strength\n",
       "Name: 2500, dtype: object"
      ]
     },
     "execution_count": 8,
     "metadata": {},
     "output_type": "execute_result"
    }
   ],
   "source": [
    "uniquewhiskies.iloc[2500]"
   ]
  },
  {
   "cell_type": "code",
   "execution_count": null,
   "metadata": {
    "ExecuteTime": {
     "end_time": "2019-07-11T01:23:22.920376Z",
     "start_time": "2019-07-10T16:09:38.920387Z"
    }
   },
   "outputs": [],
   "source": [
    "nomatch = pd.DataFrame(columns=['RedditWhiskyID','RedditWhiskyName'])\n",
    "onematch = pd.DataFrame(columns=['RedditWhiskyID','RedditWhiskyName','Name','ProductID'])\n",
    "product_ids = pd.DataFrame(columns=['RedditWhiskyID','RedditWhiskyName','Name','ProductID'])\n",
    "for whisky in uniquewhiskies.itertuples():\n",
    "    myId = getProductIds(whisky.RedditWhiskyName)\n",
    "    time.sleep(3)\n",
    "    if myId is None:\n",
    "        nomatch = nomatch.append(pd.DataFrame([[whisky.RedditWhiskyID,whisky.RedditWhiskyName]],\n",
    "                                              columns=['RedditWhiskyID','RedditWhiskyName']))\n",
    "    elif len(myId) == 0:\n",
    "        nomatch = nomatch.append(pd.DataFrame([[whisky.RedditWhiskyID,whisky.RedditWhiskyName]],\n",
    "                                              columns=['RedditWhiskyID','RedditWhiskyName']))\n",
    "    elif len(myId) == 1:\n",
    "        myId['RedditWhiskyID'] = whisky.RedditWhiskyID\n",
    "        myId['RedditWhiskyName'] = whisky.RedditWhiskyName\n",
    "        onematch = onematch.append(myId)\n",
    "    else:\n",
    "        myId['RedditWhiskyID'] = whisky.RedditWhiskyID\n",
    "        myId['RedditWhiskyName'] = whisky.RedditWhiskyName\n",
    "        product_ids = product_ids.append(myId)"
   ]
  },
  {
   "cell_type": "markdown",
   "metadata": {},
   "source": [
    "continuing where we left off:\n"
   ]
  },
  {
   "cell_type": "code",
   "execution_count": 11,
   "metadata": {
    "ExecuteTime": {
     "end_time": "2019-07-18T02:22:39.610333Z",
     "start_time": "2019-07-18T02:22:39.483971Z"
    }
   },
   "outputs": [
    {
     "name": "stderr",
     "output_type": "stream",
     "text": [
      "/opt/tljh/user/lib/python3.6/site-packages/pyarrow/pandas_compat.py:114: FutureWarning: A future version of pandas will default to `skipna=True`. To silence this warning, pass `skipna=True|False` explicitly.\n",
      "  result = infer_dtype(pandas_collection)\n"
     ]
    }
   ],
   "source": [
    "nomatch.to_parquet('nomatch.parquet')\n",
    "onematch.to_parquet('onematch.parquet')\n",
    "product_ids.to_parquet('product_ids.parquet')\n",
    "uniquewhiskies.to_parquet('whisky_ids.parquet')"
   ]
  },
  {
   "cell_type": "code",
   "execution_count": null,
   "metadata": {
    "ExecuteTime": {
     "end_time": "2019-07-11T01:41:32.118129Z",
     "start_time": "2019-07-11T01:41:32.112065Z"
    }
   },
   "outputs": [],
   "source": [
    "nomatch.shape"
   ]
  },
  {
   "cell_type": "code",
   "execution_count": null,
   "metadata": {
    "ExecuteTime": {
     "end_time": "2019-07-11T01:41:34.016145Z",
     "start_time": "2019-07-11T01:41:34.010665Z"
    }
   },
   "outputs": [],
   "source": [
    "onematch.shape"
   ]
  },
  {
   "cell_type": "code",
   "execution_count": null,
   "metadata": {
    "ExecuteTime": {
     "end_time": "2019-07-11T01:41:36.137167Z",
     "start_time": "2019-07-11T01:41:36.131502Z"
    }
   },
   "outputs": [],
   "source": [
    "product_ids.shape"
   ]
  },
  {
   "cell_type": "code",
   "execution_count": 9,
   "metadata": {
    "ExecuteTime": {
     "end_time": "2019-07-18T02:21:33.111626Z",
     "start_time": "2019-07-18T02:21:33.084888Z"
    }
   },
   "outputs": [
    {
     "data": {
      "text/html": [
       "<div>\n",
       "<style scoped>\n",
       "    .dataframe tbody tr th:only-of-type {\n",
       "        vertical-align: middle;\n",
       "    }\n",
       "\n",
       "    .dataframe tbody tr th {\n",
       "        vertical-align: top;\n",
       "    }\n",
       "\n",
       "    .dataframe thead th {\n",
       "        text-align: right;\n",
       "    }\n",
       "</style>\n",
       "<table border=\"1\" class=\"dataframe\">\n",
       "  <thead>\n",
       "    <tr style=\"text-align: right;\">\n",
       "      <th></th>\n",
       "      <th>RedditWhiskyID</th>\n",
       "      <th>RedditWhiskyName</th>\n",
       "    </tr>\n",
       "  </thead>\n",
       "  <tbody>\n",
       "    <tr>\n",
       "      <th>0</th>\n",
       "      <td>0</td>\n",
       "      <td>100 Pipers</td>\n",
       "    </tr>\n",
       "    <tr>\n",
       "      <th>1</th>\n",
       "      <td>1</td>\n",
       "      <td>1792 225th Anniversary</td>\n",
       "    </tr>\n",
       "    <tr>\n",
       "      <th>2</th>\n",
       "      <td>2</td>\n",
       "      <td>1792 Bottled In Bond</td>\n",
       "    </tr>\n",
       "    <tr>\n",
       "      <th>3</th>\n",
       "      <td>3</td>\n",
       "      <td>1792 Bottled In Bond Oak Liquor Cabinet Pick</td>\n",
       "    </tr>\n",
       "    <tr>\n",
       "      <th>4</th>\n",
       "      <td>4</td>\n",
       "      <td>1792 Full Proof</td>\n",
       "    </tr>\n",
       "    <tr>\n",
       "      <th>5</th>\n",
       "      <td>5</td>\n",
       "      <td>1792 Full Proof Angel's Beverage</td>\n",
       "    </tr>\n",
       "    <tr>\n",
       "      <th>6</th>\n",
       "      <td>6</td>\n",
       "      <td>1792 Full Proof Binny's</td>\n",
       "    </tr>\n",
       "    <tr>\n",
       "      <th>7</th>\n",
       "      <td>7</td>\n",
       "      <td>1792 Full Proof Loch &amp; K(e)y Microbatch</td>\n",
       "    </tr>\n",
       "    <tr>\n",
       "      <th>8</th>\n",
       "      <td>8</td>\n",
       "      <td>1792 Full Proof Lueken's Store Pick</td>\n",
       "    </tr>\n",
       "    <tr>\n",
       "      <th>9</th>\n",
       "      <td>9</td>\n",
       "      <td>1792 Full Proof Oak Liquor Cabinet Pick</td>\n",
       "    </tr>\n",
       "    <tr>\n",
       "      <th>10</th>\n",
       "      <td>10</td>\n",
       "      <td>1792 Full Proof Poison Girl</td>\n",
       "    </tr>\n",
       "    <tr>\n",
       "      <th>11</th>\n",
       "      <td>11</td>\n",
       "      <td>1792 Full Proof Red Dog Wine &amp; Spirits</td>\n",
       "    </tr>\n",
       "    <tr>\n",
       "      <th>12</th>\n",
       "      <td>12</td>\n",
       "      <td>1792 High Rye</td>\n",
       "    </tr>\n",
       "    <tr>\n",
       "      <th>13</th>\n",
       "      <td>13</td>\n",
       "      <td>1792 Port Finish</td>\n",
       "    </tr>\n",
       "    <tr>\n",
       "      <th>14</th>\n",
       "      <td>14</td>\n",
       "      <td>1792 Ridgemont Reserve</td>\n",
       "    </tr>\n",
       "    <tr>\n",
       "      <th>15</th>\n",
       "      <td>15</td>\n",
       "      <td>1792 Single Barrel</td>\n",
       "    </tr>\n",
       "    <tr>\n",
       "      <th>16</th>\n",
       "      <td>16</td>\n",
       "      <td>1792 Single Barrel (Crown Liquors, 7/12/16 Bot...</td>\n",
       "    </tr>\n",
       "    <tr>\n",
       "      <th>17</th>\n",
       "      <td>17</td>\n",
       "      <td>1792 Single Barrel Oak Liquor Cabinet Pick</td>\n",
       "    </tr>\n",
       "    <tr>\n",
       "      <th>18</th>\n",
       "      <td>18</td>\n",
       "      <td>1792 Single Barrel Parkway Wine And Spirits</td>\n",
       "    </tr>\n",
       "    <tr>\n",
       "      <th>19</th>\n",
       "      <td>19</td>\n",
       "      <td>1792 Small Batch</td>\n",
       "    </tr>\n",
       "    <tr>\n",
       "      <th>20</th>\n",
       "      <td>20</td>\n",
       "      <td>1792 Sweet Wheat</td>\n",
       "    </tr>\n",
       "    <tr>\n",
       "      <th>21</th>\n",
       "      <td>21</td>\n",
       "      <td>1835 Bourbon Whiskey</td>\n",
       "    </tr>\n",
       "    <tr>\n",
       "      <th>22</th>\n",
       "      <td>22</td>\n",
       "      <td>291 Single Barrel Colorado Rye Whiskey</td>\n",
       "    </tr>\n",
       "    <tr>\n",
       "      <th>23</th>\n",
       "      <td>23</td>\n",
       "      <td>4 Roses PS OESK</td>\n",
       "    </tr>\n",
       "    <tr>\n",
       "      <th>24</th>\n",
       "      <td>24</td>\n",
       "      <td>4Roses 130th Anniversary</td>\n",
       "    </tr>\n",
       "    <tr>\n",
       "      <th>25</th>\n",
       "      <td>25</td>\n",
       "      <td>601 Bourbon</td>\n",
       "    </tr>\n",
       "    <tr>\n",
       "      <th>26</th>\n",
       "      <td>26</td>\n",
       "      <td>66 Gilead Crimson Rye</td>\n",
       "    </tr>\n",
       "    <tr>\n",
       "      <th>27</th>\n",
       "      <td>27</td>\n",
       "      <td>66 Gilead Wild Oak</td>\n",
       "    </tr>\n",
       "    <tr>\n",
       "      <th>28</th>\n",
       "      <td>28</td>\n",
       "      <td>A Drop of the Irish Black Adder 2016 Sherry Ca...</td>\n",
       "    </tr>\n",
       "    <tr>\n",
       "      <th>29</th>\n",
       "      <td>29</td>\n",
       "      <td>A.D. Laws Four Grain Straight Bourbon</td>\n",
       "    </tr>\n",
       "    <tr>\n",
       "      <th>...</th>\n",
       "      <td>...</td>\n",
       "      <td>...</td>\n",
       "    </tr>\n",
       "    <tr>\n",
       "      <th>10121</th>\n",
       "      <td>10121</td>\n",
       "      <td>Cadenhead's Highland Living Cask b5/30/2019</td>\n",
       "    </tr>\n",
       "    <tr>\n",
       "      <th>10122</th>\n",
       "      <td>10122</td>\n",
       "      <td>Johnnie Walker 15 Green Label</td>\n",
       "    </tr>\n",
       "    <tr>\n",
       "      <th>10123</th>\n",
       "      <td>10123</td>\n",
       "      <td>Dufftown 18 1997 SiC Signatory Vintage UCF (Ne...</td>\n",
       "    </tr>\n",
       "    <tr>\n",
       "      <th>10124</th>\n",
       "      <td>10124</td>\n",
       "      <td>Caribou Crossing</td>\n",
       "    </tr>\n",
       "    <tr>\n",
       "      <th>10125</th>\n",
       "      <td>10125</td>\n",
       "      <td>Glenfiddich Spirit of Speyside 2019</td>\n",
       "    </tr>\n",
       "    <tr>\n",
       "      <th>10126</th>\n",
       "      <td>10126</td>\n",
       "      <td>Old Rip Van Winkle 2018</td>\n",
       "    </tr>\n",
       "    <tr>\n",
       "      <th>10127</th>\n",
       "      <td>10127</td>\n",
       "      <td>Maker's Mark Private Select Oak Liquor Cabinet</td>\n",
       "    </tr>\n",
       "    <tr>\n",
       "      <th>10128</th>\n",
       "      <td>10128</td>\n",
       "      <td>Old Fitzgerald Bottled in Bond 9 Year</td>\n",
       "    </tr>\n",
       "    <tr>\n",
       "      <th>10129</th>\n",
       "      <td>10129</td>\n",
       "      <td>Rebel Yell 10 Year Single Barrel</td>\n",
       "    </tr>\n",
       "    <tr>\n",
       "      <th>10130</th>\n",
       "      <td>10130</td>\n",
       "      <td>Glenfiddich 15 Cask Strength Gift Shop Bottle</td>\n",
       "    </tr>\n",
       "    <tr>\n",
       "      <th>10131</th>\n",
       "      <td>10131</td>\n",
       "      <td>George Dickel Bottled in Bond</td>\n",
       "    </tr>\n",
       "    <tr>\n",
       "      <th>10132</th>\n",
       "      <td>10132</td>\n",
       "      <td>Early Times Bottled in Bond</td>\n",
       "    </tr>\n",
       "    <tr>\n",
       "      <th>10133</th>\n",
       "      <td>10133</td>\n",
       "      <td>Heaven Hill 6 Year BiB</td>\n",
       "    </tr>\n",
       "    <tr>\n",
       "      <th>10134</th>\n",
       "      <td>10134</td>\n",
       "      <td>EHT Small Batch</td>\n",
       "    </tr>\n",
       "    <tr>\n",
       "      <th>10135</th>\n",
       "      <td>10135</td>\n",
       "      <td>EHT Single Barrel</td>\n",
       "    </tr>\n",
       "    <tr>\n",
       "      <th>10136</th>\n",
       "      <td>10136</td>\n",
       "      <td>Brora 35 1977/2013, 49.9%</td>\n",
       "    </tr>\n",
       "    <tr>\n",
       "      <th>10137</th>\n",
       "      <td>10137</td>\n",
       "      <td>Wild Turkey Kentucky Spirit 10/9/08</td>\n",
       "    </tr>\n",
       "    <tr>\n",
       "      <th>10138</th>\n",
       "      <td>10138</td>\n",
       "      <td>New Riff Rye</td>\n",
       "    </tr>\n",
       "    <tr>\n",
       "      <th>10139</th>\n",
       "      <td>10139</td>\n",
       "      <td>Speyside</td>\n",
       "    </tr>\n",
       "    <tr>\n",
       "      <th>10140</th>\n",
       "      <td>10140</td>\n",
       "      <td>Woodford Reserve Malt</td>\n",
       "    </tr>\n",
       "    <tr>\n",
       "      <th>10141</th>\n",
       "      <td>10141</td>\n",
       "      <td>Amrut Greedy Angels 10 Cask Strength</td>\n",
       "    </tr>\n",
       "    <tr>\n",
       "      <th>10142</th>\n",
       "      <td>10142</td>\n",
       "      <td>Mortlach 2008 10yo (Van Wees - The Ultimate)</td>\n",
       "    </tr>\n",
       "    <tr>\n",
       "      <th>10143</th>\n",
       "      <td>10143</td>\n",
       "      <td>Arran 20 Explorer's Series Vol. 1 Brodick Bay</td>\n",
       "    </tr>\n",
       "    <tr>\n",
       "      <th>10144</th>\n",
       "      <td>10144</td>\n",
       "      <td>Sagamore Rye Port Finish</td>\n",
       "    </tr>\n",
       "    <tr>\n",
       "      <th>10145</th>\n",
       "      <td>10145</td>\n",
       "      <td>George Dickel Single Barrel</td>\n",
       "    </tr>\n",
       "    <tr>\n",
       "      <th>10146</th>\n",
       "      <td>10146</td>\n",
       "      <td>Aberlour A'bunadh Batch #63</td>\n",
       "    </tr>\n",
       "    <tr>\n",
       "      <th>10147</th>\n",
       "      <td>10147</td>\n",
       "      <td>Longrow 11 Rechar Sherry</td>\n",
       "    </tr>\n",
       "    <tr>\n",
       "      <th>10148</th>\n",
       "      <td>10148</td>\n",
       "      <td>Heaven Hill 9 North Star</td>\n",
       "    </tr>\n",
       "    <tr>\n",
       "      <th>10149</th>\n",
       "      <td>10149</td>\n",
       "      <td>Ardbeg 17 Elements of Islay - Ar10</td>\n",
       "    </tr>\n",
       "    <tr>\n",
       "      <th>10150</th>\n",
       "      <td>10150</td>\n",
       "      <td>Highland Park 16 SMWS 4.250</td>\n",
       "    </tr>\n",
       "  </tbody>\n",
       "</table>\n",
       "<p>10151 rows × 2 columns</p>\n",
       "</div>"
      ],
      "text/plain": [
       "       RedditWhiskyID                                   RedditWhiskyName\n",
       "0                   0                                         100 Pipers\n",
       "1                   1                             1792 225th Anniversary\n",
       "2                   2                               1792 Bottled In Bond\n",
       "3                   3       1792 Bottled In Bond Oak Liquor Cabinet Pick\n",
       "4                   4                                    1792 Full Proof\n",
       "5                   5                   1792 Full Proof Angel's Beverage\n",
       "6                   6                            1792 Full Proof Binny's\n",
       "7                   7            1792 Full Proof Loch & K(e)y Microbatch\n",
       "8                   8                1792 Full Proof Lueken's Store Pick\n",
       "9                   9            1792 Full Proof Oak Liquor Cabinet Pick\n",
       "10                 10                        1792 Full Proof Poison Girl\n",
       "11                 11             1792 Full Proof Red Dog Wine & Spirits\n",
       "12                 12                                      1792 High Rye\n",
       "13                 13                                   1792 Port Finish\n",
       "14                 14                             1792 Ridgemont Reserve\n",
       "15                 15                                 1792 Single Barrel\n",
       "16                 16  1792 Single Barrel (Crown Liquors, 7/12/16 Bot...\n",
       "17                 17         1792 Single Barrel Oak Liquor Cabinet Pick\n",
       "18                 18        1792 Single Barrel Parkway Wine And Spirits\n",
       "19                 19                                   1792 Small Batch\n",
       "20                 20                                   1792 Sweet Wheat\n",
       "21                 21                               1835 Bourbon Whiskey\n",
       "22                 22             291 Single Barrel Colorado Rye Whiskey\n",
       "23                 23                                    4 Roses PS OESK\n",
       "24                 24                           4Roses 130th Anniversary\n",
       "25                 25                                        601 Bourbon\n",
       "26                 26                              66 Gilead Crimson Rye\n",
       "27                 27                                 66 Gilead Wild Oak\n",
       "28                 28  A Drop of the Irish Black Adder 2016 Sherry Ca...\n",
       "29                 29              A.D. Laws Four Grain Straight Bourbon\n",
       "...               ...                                                ...\n",
       "10121           10121        Cadenhead's Highland Living Cask b5/30/2019\n",
       "10122           10122                      Johnnie Walker 15 Green Label\n",
       "10123           10123  Dufftown 18 1997 SiC Signatory Vintage UCF (Ne...\n",
       "10124           10124                                   Caribou Crossing\n",
       "10125           10125                Glenfiddich Spirit of Speyside 2019\n",
       "10126           10126                            Old Rip Van Winkle 2018\n",
       "10127           10127     Maker's Mark Private Select Oak Liquor Cabinet\n",
       "10128           10128              Old Fitzgerald Bottled in Bond 9 Year\n",
       "10129           10129                   Rebel Yell 10 Year Single Barrel\n",
       "10130           10130      Glenfiddich 15 Cask Strength Gift Shop Bottle\n",
       "10131           10131                      George Dickel Bottled in Bond\n",
       "10132           10132                        Early Times Bottled in Bond\n",
       "10133           10133                             Heaven Hill 6 Year BiB\n",
       "10134           10134                                    EHT Small Batch\n",
       "10135           10135                                  EHT Single Barrel\n",
       "10136           10136                          Brora 35 1977/2013, 49.9%\n",
       "10137           10137                Wild Turkey Kentucky Spirit 10/9/08\n",
       "10138           10138                                       New Riff Rye\n",
       "10139           10139                                           Speyside\n",
       "10140           10140                              Woodford Reserve Malt\n",
       "10141           10141               Amrut Greedy Angels 10 Cask Strength\n",
       "10142           10142       Mortlach 2008 10yo (Van Wees - The Ultimate)\n",
       "10143           10143      Arran 20 Explorer's Series Vol. 1 Brodick Bay\n",
       "10144           10144                           Sagamore Rye Port Finish\n",
       "10145           10145                        George Dickel Single Barrel\n",
       "10146           10146                        Aberlour A'bunadh Batch #63\n",
       "10147           10147                           Longrow 11 Rechar Sherry\n",
       "10148           10148                           Heaven Hill 9 North Star\n",
       "10149           10149                 Ardbeg 17 Elements of Islay - Ar10\n",
       "10150           10150                        Highland Park 16 SMWS 4.250\n",
       "\n",
       "[10151 rows x 2 columns]"
      ]
     },
     "execution_count": 9,
     "metadata": {},
     "output_type": "execute_result"
    }
   ],
   "source": [
    "uniquewhiskies"
   ]
  },
  {
   "cell_type": "code",
   "execution_count": null,
   "metadata": {
    "ExecuteTime": {
     "end_time": "2019-07-11T01:56:04.631171Z",
     "start_time": "2019-07-11T01:56:04.586168Z"
    }
   },
   "outputs": [],
   "source": [
    "product_ids"
   ]
  }
 ],
 "metadata": {
  "kernelspec": {
   "display_name": "Python 3",
   "language": "python",
   "name": "python3"
  },
  "language_info": {
   "codemirror_mode": {
    "name": "ipython",
    "version": 3
   },
   "file_extension": ".py",
   "mimetype": "text/x-python",
   "name": "python",
   "nbconvert_exporter": "python",
   "pygments_lexer": "ipython3",
   "version": "3.6.8"
  },
  "toc": {
   "base_numbering": 1,
   "nav_menu": {},
   "number_sections": true,
   "sideBar": true,
   "skip_h1_title": true,
   "title_cell": "Table of Contents",
   "title_sidebar": "Contents",
   "toc_cell": true,
   "toc_position": {
    "height": "calc(100% - 180px)",
    "left": "10px",
    "top": "150px",
    "width": "165px"
   },
   "toc_section_display": true,
   "toc_window_display": true
  }
 },
 "nbformat": 4,
 "nbformat_minor": 2
}

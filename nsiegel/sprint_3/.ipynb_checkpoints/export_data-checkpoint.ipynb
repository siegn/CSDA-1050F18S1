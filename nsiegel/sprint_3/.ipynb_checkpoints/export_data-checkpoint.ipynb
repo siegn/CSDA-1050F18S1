{
 "cells": [
  {
   "cell_type": "code",
   "execution_count": 1,
   "metadata": {
    "ExecuteTime": {
     "end_time": "2019-08-15T00:59:51.112513Z",
     "start_time": "2019-08-15T00:59:50.694752Z"
    }
   },
   "outputs": [],
   "source": [
    "import pandas as pd"
   ]
  },
  {
   "cell_type": "code",
   "execution_count": 16,
   "metadata": {
    "ExecuteTime": {
     "end_time": "2019-08-15T01:32:07.289966Z",
     "start_time": "2019-08-15T01:32:07.286360Z"
    }
   },
   "outputs": [],
   "source": [
    "sourcepath = '../sprint_2/data/whiskyinfo.parquet'"
   ]
  },
  {
   "cell_type": "code",
   "execution_count": 117,
   "metadata": {
    "ExecuteTime": {
     "end_time": "2019-08-19T03:36:19.150498Z",
     "start_time": "2019-08-19T03:36:19.075946Z"
    }
   },
   "outputs": [
    {
     "name": "stderr",
     "output_type": "stream",
     "text": [
      "/opt/tljh/user/lib/python3.6/site-packages/pyarrow/pandas_compat.py:708: FutureWarning:\n",
      "\n",
      ".labels was deprecated in version 0.24.0. Use .codes instead.\n",
      "\n",
      "/opt/tljh/user/lib/python3.6/site-packages/pyarrow/pandas_compat.py:735: FutureWarning:\n",
      "\n",
      "the 'labels' keyword is deprecated, use 'codes' instead\n",
      "\n",
      "/opt/tljh/user/lib/python3.6/site-packages/pyarrow/pandas_compat.py:752: FutureWarning:\n",
      "\n",
      ".labels was deprecated in version 0.24.0. Use .codes instead.\n",
      "\n"
     ]
    }
   ],
   "source": [
    "df = pd.read_parquet('../sprint_2/data/whisky_tfidf.parquet')\n",
    "whiskyinfo = pd.read_parquet('../sprint_2/data/whiskyinfo.parquet')\n",
    "similarities = pd.read_parquet('../sprint_2/data/similarities2.parquet')"
   ]
  },
  {
   "cell_type": "markdown",
   "metadata": {},
   "source": [
    "## Generate Wordcloud Images"
   ]
  },
  {
   "cell_type": "code",
   "execution_count": 68,
   "metadata": {
    "ExecuteTime": {
     "end_time": "2019-08-19T02:59:23.633664Z",
     "start_time": "2019-08-19T02:59:23.628792Z"
    }
   },
   "outputs": [],
   "source": [
    "from wordcloud import WordCloud, STOPWORDS\n",
    "import matplotlib.pyplot as plt\n",
    "from palettable.colorbrewer.sequential import  OrRd_9\n",
    "import random\n",
    "import plotly.tools as tls"
   ]
  },
  {
   "cell_type": "code",
   "execution_count": 120,
   "metadata": {
    "ExecuteTime": {
     "end_time": "2019-08-19T03:37:31.095557Z",
     "start_time": "2019-08-19T03:37:31.084211Z"
    }
   },
   "outputs": [],
   "source": [
    "font_path = \"dash_app/OpenSans-CondBold.ttf\"\n",
    "output_path = \"dash_app/wordclouds/\"\n",
    "wcsize = 800\n",
    "\n",
    "def color_func(word, font_size, position, orientation, random_state=None, **kwargs):\n",
    "    return tuple(OrRd_9.colors[random.randint(2,8)])\n",
    "\n",
    "def generatewordcloud(whiskynum):\n",
    "    whisky = whiskyinfo.reset_index().iloc[whiskynum]\n",
    "    itemnumber = whisky.itemnumber \n",
    "    words = whisky.nose.tolist() + whisky.taste.tolist() + whisky.finish.tolist()\n",
    "    words = [word.upper() for word in words]\n",
    "    \n",
    "    wc = WordCloud(background_color=\"white\",font_path=font_path, max_font_size=300,\n",
    "                   width = wcsize, height=wcsize,random_state=42, prefer_horizontal=1)\n",
    "    wc.generate(' '.join(words))\n",
    "    wc.recolor(color_func=color_func, random_state=3)\n",
    "    wc.to_file(output_path+str(itemnumber)+'.png')\n",
    "\n",
    "#plt.imshow(wc, interpolation='bilinear')"
   ]
  },
  {
   "cell_type": "code",
   "execution_count": 121,
   "metadata": {
    "ExecuteTime": {
     "end_time": "2019-08-19T03:37:34.790522Z",
     "start_time": "2019-08-19T03:37:33.075450Z"
    }
   },
   "outputs": [],
   "source": [
    "generatewordcloud(0)"
   ]
  },
  {
   "cell_type": "code",
   "execution_count": 133,
   "metadata": {
    "ExecuteTime": {
     "end_time": "2019-08-19T03:41:42.583505Z",
     "start_time": "2019-08-19T03:41:42.577884Z"
    }
   },
   "outputs": [
    {
     "data": {
      "text/plain": [
       "(421, 55)"
      ]
     },
     "execution_count": 133,
     "metadata": {},
     "output_type": "execute_result"
    }
   ],
   "source": [
    "whiskyinfo.shape"
   ]
  },
  {
   "cell_type": "code",
   "execution_count": 136,
   "metadata": {
    "ExecuteTime": {
     "end_time": "2019-08-19T03:54:15.210740Z",
     "start_time": "2019-08-19T03:44:39.840436Z"
    }
   },
   "outputs": [
    {
     "name": "stdout",
     "output_type": "stream",
     "text": [
      "59\n",
      "108\n",
      "319\n"
     ]
    }
   ],
   "source": [
    "for i in range(whiskyinfo.shape[0]):\n",
    "    try:\n",
    "        generatewordcloud(i)\n",
    "    except:\n",
    "        print(i)"
   ]
  },
  {
   "cell_type": "code",
   "execution_count": 139,
   "metadata": {
    "ExecuteTime": {
     "end_time": "2019-08-19T04:31:46.976387Z",
     "start_time": "2019-08-19T04:31:46.967714Z"
    }
   },
   "outputs": [
    {
     "data": {
      "text/plain": [
       "RedditWhiskyIDs      [6789]\n",
       "reviewIDs           [26722]\n",
       "rating_mean              77\n",
       "rating_std              NaN\n",
       "style              Highland\n",
       "index_col               319\n",
       "nose                     []\n",
       "taste                    []\n",
       "finish                   []\n",
       "Name: (ROYAL BRACKLA 12 YEAR OLD HIGHLAND SINGLE MALT SCOTCH WHISKY, 441055), dtype: object"
      ]
     },
     "execution_count": 139,
     "metadata": {},
     "output_type": "execute_result"
    }
   ],
   "source": [
    "df.iloc[319]"
   ]
  }
 ],
 "metadata": {
  "kernelspec": {
   "display_name": "Python 3",
   "language": "python",
   "name": "python3"
  },
  "language_info": {
   "codemirror_mode": {
    "name": "ipython",
    "version": 3
   },
   "file_extension": ".py",
   "mimetype": "text/x-python",
   "name": "python",
   "nbconvert_exporter": "python",
   "pygments_lexer": "ipython3",
   "version": "3.6.8"
  },
  "toc": {
   "base_numbering": 1,
   "nav_menu": {},
   "number_sections": true,
   "sideBar": true,
   "skip_h1_title": false,
   "title_cell": "Table of Contents",
   "title_sidebar": "Contents",
   "toc_cell": false,
   "toc_position": {},
   "toc_section_display": true,
   "toc_window_display": false
  }
 },
 "nbformat": 4,
 "nbformat_minor": 2
}

{
 "cells": [
  {
   "cell_type": "markdown",
   "metadata": {
    "toc": true
   },
   "source": [
    "<h1>Table of Contents<span class=\"tocSkip\"></span></h1>\n",
    "<div class=\"toc\"><ul class=\"toc-item\"><li><span><a href=\"#Load-Libraries\" data-toc-modified-id=\"Load-Libraries-1\"><span class=\"toc-item-num\">1&nbsp;&nbsp;</span>Load Libraries</a></span></li><li><span><a href=\"#Load-saved-data\" data-toc-modified-id=\"Load-saved-data-2\"><span class=\"toc-item-num\">2&nbsp;&nbsp;</span>Load saved data</a></span></li><li><span><a href=\"#Functions-needed-to-predict-character\" data-toc-modified-id=\"Functions-needed-to-predict-character-3\"><span class=\"toc-item-num\">3&nbsp;&nbsp;</span>Functions needed to predict character</a></span></li><li><span><a href=\"#Predict-a-character-from-a-sample-text\" data-toc-modified-id=\"Predict-a-character-from-a-sample-text-4\"><span class=\"toc-item-num\">4&nbsp;&nbsp;</span>Predict a character from a sample text</a></span></li></ul></div>"
   ]
  },
  {
   "cell_type": "markdown",
   "metadata": {},
   "source": [
    "### Load Libraries"
   ]
  },
  {
   "cell_type": "code",
   "execution_count": 1,
   "metadata": {
    "ExecuteTime": {
     "end_time": "2019-06-29T01:22:53.559566Z",
     "start_time": "2019-06-29T01:22:52.522384Z"
    }
   },
   "outputs": [],
   "source": [
    "import pickle\n",
    "import glob\n",
    "from textwrap import dedent\n",
    "import plotly.graph_objs as go\n"
   ]
  },
  {
   "cell_type": "markdown",
   "metadata": {},
   "source": [
    "### Load saved data"
   ]
  },
  {
   "cell_type": "code",
   "execution_count": 2,
   "metadata": {
    "ExecuteTime": {
     "end_time": "2019-06-29T01:23:10.546384Z",
     "start_time": "2019-06-29T01:23:06.345378Z"
    }
   },
   "outputs": [],
   "source": [
    "node_figs = pickle.load(open('node_figs.pik','rb'))"
   ]
  },
  {
   "cell_type": "markdown",
   "metadata": {},
   "source": [
    "### Functions needed to predict character"
   ]
  },
  {
   "cell_type": "code",
   "execution_count": 3,
   "metadata": {
    "ExecuteTime": {
     "end_time": "2019-06-29T01:23:24.505065Z",
     "start_time": "2019-06-29T01:23:24.495148Z"
    }
   },
   "outputs": [],
   "source": [
    "def update_graph(value):\n",
    "    figure={\n",
    "    \"data\": node_figs[node_figs['node']==value]['fig'],\n",
    "    \"layout\": go.Layout(\n",
    "      title='Network Graph For ' + value,\n",
    "      titlefont={'size': 16},\n",
    "      showlegend=False,\n",
    "      hovermode='closest',\n",
    "      margin={'b': 20, 'l': 5, 'r': 5, 't': 40},\n",
    "      xaxis={'showgrid': False,\n",
    "             'zeroline': False, 'showticklabels': False},\n",
    "      yaxis={'showgrid': False,\n",
    "             'zeroline': False, 'showticklabels': False})\n",
    "                  }\n",
    "    #prediction = predict_character(value, characterClassifier, count_vect, encoder, got_words, unwanted_words)[0]\n",
    "    #imagename = static_image_route + '{}.png'.format(prediction)\n",
    "    \n",
    "    return value, figure"
   ]
  },
  {
   "cell_type": "markdown",
   "metadata": {},
   "source": [
    "### Predict a character from a sample text"
   ]
  },
  {
   "cell_type": "code",
   "execution_count": 4,
   "metadata": {
    "ExecuteTime": {
     "end_time": "2019-06-29T01:23:46.290722Z",
     "start_time": "2019-06-29T01:23:45.830810Z"
    }
   },
   "outputs": [
    {
     "name": "stdout",
     "output_type": "stream",
     "text": [
      "('sex', {'data': 0    [Scatter3d({\\n    'hoverinfo': 'none',\\n    'l...\n",
      "Name: fig, dtype: object, 'layout': Layout({\n",
      "    'hovermode': 'closest',\n",
      "    'margin': {'b': 20, 'l': 5, 'r': 5, 't': 40},\n",
      "    'showlegend': False,\n",
      "    'title': {'font': {'size': 16}, 'text': 'Network Graph For sex'},\n",
      "    'xaxis': {'showgrid': False, 'showticklabels': False, 'zeroline': False},\n",
      "    'yaxis': {'showgrid': False, 'showticklabels': False, 'zeroline': False}\n",
      "})})\n"
     ]
    }
   ],
   "source": [
    "text = 'sex'\n",
    "figure = update_graph(text)\n",
    "print(figure)"
   ]
  }
 ],
 "metadata": {
  "kernelspec": {
   "display_name": "Python 3",
   "language": "python",
   "name": "python3"
  },
  "language_info": {
   "codemirror_mode": {
    "name": "ipython",
    "version": 3
   },
   "file_extension": ".py",
   "mimetype": "text/x-python",
   "name": "python",
   "nbconvert_exporter": "python",
   "pygments_lexer": "ipython3",
   "version": "3.6.8"
  },
  "toc": {
   "base_numbering": 1,
   "nav_menu": {},
   "number_sections": true,
   "sideBar": true,
   "skip_h1_title": true,
   "title_cell": "Table of Contents",
   "title_sidebar": "Contents",
   "toc_cell": true,
   "toc_position": {},
   "toc_section_display": true,
   "toc_window_display": true
  }
 },
 "nbformat": 4,
 "nbformat_minor": 2
}

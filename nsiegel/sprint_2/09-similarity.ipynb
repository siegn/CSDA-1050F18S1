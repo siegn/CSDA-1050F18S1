{
 "cells": [
  {
   "cell_type": "code",
   "execution_count": 1,
   "metadata": {
    "ExecuteTime": {
     "end_time": "2019-08-02T03:12:29.926378Z",
     "start_time": "2019-08-02T03:12:28.846731Z"
    },
    "scrolled": true
   },
   "outputs": [],
   "source": [
    "from pyemd import emd\n",
    "from gensim.similarities import WmdSimilarity\n",
    "import pandas as pd\n",
    "from collections import defaultdict\n",
    "from gensim import corpora"
   ]
  },
  {
   "cell_type": "code",
   "execution_count": 2,
   "metadata": {
    "ExecuteTime": {
     "end_time": "2019-08-02T03:12:30.112367Z",
     "start_time": "2019-08-02T03:12:29.930515Z"
    }
   },
   "outputs": [
    {
     "name": "stderr",
     "output_type": "stream",
     "text": [
      "/opt/tljh/user/lib/python3.6/site-packages/pyarrow/pandas_compat.py:708: FutureWarning: .labels was deprecated in version 0.24.0. Use .codes instead.\n",
      "  labels = getattr(columns, 'labels', None) or [\n",
      "/opt/tljh/user/lib/python3.6/site-packages/pyarrow/pandas_compat.py:735: FutureWarning: the 'labels' keyword is deprecated, use 'codes' instead\n",
      "  return pd.MultiIndex(levels=new_levels, labels=labels, names=columns.names)\n",
      "/opt/tljh/user/lib/python3.6/site-packages/pyarrow/pandas_compat.py:752: FutureWarning: .labels was deprecated in version 0.24.0. Use .codes instead.\n",
      "  labels, = index.labels\n"
     ]
    }
   ],
   "source": [
    "whiskyp = pd.read_parquet('data/whisky_processed.parquet')"
   ]
  },
  {
   "cell_type": "markdown",
   "metadata": {},
   "source": [
    "## Build Corpuses"
   ]
  },
  {
   "cell_type": "code",
   "execution_count": 3,
   "metadata": {
    "ExecuteTime": {
     "end_time": "2019-08-02T03:12:30.129866Z",
     "start_time": "2019-08-02T03:12:30.115861Z"
    }
   },
   "outputs": [],
   "source": [
    "def buildcorpus(column, texts=False):\n",
    "\n",
    "    # convert to list of lists\n",
    "    texts = [list(document) for document in column]\n",
    "\n",
    "    # remove words that only occur once since they won't help find similarities\n",
    "    # TODO?: if this doesn't give results try tfidf instead here\n",
    "\n",
    "    frequency = defaultdict(int)\n",
    "    # calculate frequencies\n",
    "    for text in texts:\n",
    "        for token in text:\n",
    "            frequency[token] += 1\n",
    "\n",
    "    # filter frequencies\n",
    "    texts = [\n",
    "        [token for token in text if frequency[token] > 1]\n",
    "        for text in texts\n",
    "    ]\n",
    "\n",
    "    # build a dictionary for the corpus to know which id is which word\n",
    "    dictionary = corpora.Dictionary(texts)\n",
    "\n",
    "    # convert documents to vectors\n",
    "    corpus = [dictionary.doc2bow(text) for text in texts]\n",
    "    \n",
    "    if texts:\n",
    "        # user requested texts as well\n",
    "        return dictionary, corpus, texts\n",
    "    else:\n",
    "        # dont bother with texts\n",
    "        return dictionary, corpus\n",
    "\n",
    "# function to easily save dictionary and corpus files\n",
    "def savecorpus(dictionary, corpus, name):\n",
    "    dictpath = 'data/' + name + '.dict'\n",
    "    corpuspath = 'data/' + name + '.mm'\n",
    "    dictionary.save(dictpath)\n",
    "    print('Saved dict to ' + dictpath)\n",
    "    corpora.MmCorpus.serialize(corpuspath, corpus)\n",
    "    print('Saved corpus to ' + corpuspath)\n",
    "    return True\n",
    "\n",
    "# function to easily load dictionary and corpus files\n",
    "def loadcorpus(name):\n",
    "    dictpath = 'data/' + name + '.dict'\n",
    "    corpuspath = 'data/' + name + '.mm'\n",
    "    \n",
    "    dictionary = corpora.Dictionary.load(dictpath)\n",
    "    corpus = corpora.MmCorpus(corpuspath)\n",
    "    \n",
    "    return dictionary, corpus"
   ]
  },
  {
   "cell_type": "code",
   "execution_count": 4,
   "metadata": {
    "ExecuteTime": {
     "end_time": "2019-08-02T03:12:32.251205Z",
     "start_time": "2019-08-02T03:12:30.132857Z"
    }
   },
   "outputs": [
    {
     "name": "stderr",
     "output_type": "stream",
     "text": [
      "/opt/tljh/user/lib/python3.6/site-packages/smart_open/smart_open_lib.py:398: UserWarning: This function is deprecated, use smart_open.open instead. See the migration notes for details: https://github.com/RaRe-Technologies/smart_open/blob/master/README.rst#migrating-to-the-new-open-function\n",
      "  'See the migration notes for details: %s' % _MIGRATION_NOTES_URL\n"
     ]
    },
    {
     "name": "stdout",
     "output_type": "stream",
     "text": [
      "Saved dict to data/nose.dict\n",
      "Saved corpus to data/nose.mm\n",
      "Saved dict to data/taste.dict\n",
      "Saved corpus to data/taste.mm\n",
      "Saved dict to data/finish.dict\n",
      "Saved corpus to data/finish.mm\n"
     ]
    },
    {
     "data": {
      "text/plain": [
       "True"
      ]
     },
     "execution_count": 4,
     "metadata": {},
     "output_type": "execute_result"
    }
   ],
   "source": [
    "# generate dictionaries and corpuses for each column\n",
    "nose_dict  , nose_corpus  , nose_texts   = buildcorpus(whiskyp.nose  )\n",
    "taste_dict , taste_corpus , taste_texts  = buildcorpus(whiskyp.taste )\n",
    "finish_dict, finish_corpus, finish_texts = buildcorpus(whiskyp.finish)\n",
    "\n",
    "# save to file\n",
    "savecorpus(nose_dict  , nose_corpus  , 'nose'  )\n",
    "savecorpus(taste_dict , taste_corpus , 'taste' )\n",
    "savecorpus(finish_dict, finish_corpus, 'finish')\n",
    "\n",
    "# to load later:\n",
    "#nose_dict  , nose_corpus   = loadcorpus('nose'  )\n",
    "#taste_dict , taste_corpus  = loadcorpus('taste' )\n",
    "#finish_dict, finish_corpus = loadcorpus('finish')"
   ]
  },
  {
   "cell_type": "code",
   "execution_count": 5,
   "metadata": {
    "ExecuteTime": {
     "end_time": "2019-08-02T03:12:32.260394Z",
     "start_time": "2019-08-02T03:12:32.256387Z"
    }
   },
   "outputs": [],
   "source": [
    "#TODO?: Apply TFIDF here if needed\n",
    "# https://radimrehurek.com/gensim/tut2.html\n",
    "\n"
   ]
  },
  {
   "cell_type": "markdown",
   "metadata": {},
   "source": [
    "## Word2Vec"
   ]
  },
  {
   "cell_type": "code",
   "execution_count": 62,
   "metadata": {
    "ExecuteTime": {
     "end_time": "2019-08-02T03:46:52.490923Z",
     "start_time": "2019-08-02T03:46:48.774512Z"
    }
   },
   "outputs": [],
   "source": [
    "from gensim.models import Word2Vec\n",
    "\n",
    "# let's train on the full dataset of nose, taste, and finish. This is more data to train on so should yield better results\n",
    "texts = nose_texts + taste_texts + finish_texts\n",
    "\n",
    "# Train Word2Vec:\n",
    "model = Word2Vec(texts, size=100)\n",
    "\n",
    "# Normalizes the vectors in the word2vec class.\n",
    "model.init_sims(replace=True)  "
   ]
  },
  {
   "cell_type": "code",
   "execution_count": 65,
   "metadata": {
    "ExecuteTime": {
     "end_time": "2019-08-02T03:47:15.293590Z",
     "start_time": "2019-08-02T03:47:15.284067Z"
    }
   },
   "outputs": [
    {
     "data": {
      "text/plain": [
       "[('fudge', 0.7731459140777588),\n",
       " ('seaweeod', 0.7609512805938721),\n",
       " ('honey', 0.6912168264389038),\n",
       " ('almond', 0.6875858306884766),\n",
       " ('hazelnut', 0.6726166009902954),\n",
       " ('marzipan', 0.6705068349838257),\n",
       " ('nougat', 0.6691604852676392),\n",
       " ('walnut', 0.6665315628051758),\n",
       " ('cream', 0.6619576215744019),\n",
       " ('toasty', 0.6591719388961792)]"
      ]
     },
     "execution_count": 65,
     "metadata": {},
     "output_type": "execute_result"
    }
   ],
   "source": [
    "# Test model\n",
    "word = 'toffee'\n",
    "model.wv.most_similar(positive=word)"
   ]
  },
  {
   "cell_type": "markdown",
   "metadata": {},
   "source": [
    "## Word Mover Distance"
   ]
  },
  {
   "cell_type": "code",
   "execution_count": 67,
   "metadata": {
    "ExecuteTime": {
     "end_time": "2019-08-02T03:47:38.320702Z",
     "start_time": "2019-08-02T03:47:38.227425Z"
    }
   },
   "outputs": [],
   "source": [
    "# https://github.com/RaRe-Technologies/gensim/blob/develop/docs/notebooks/WMD_tutorial.ipynb"
   ]
  },
  {
   "cell_type": "code",
   "execution_count": 69,
   "metadata": {
    "ExecuteTime": {
     "end_time": "2019-08-02T03:56:45.291662Z",
     "start_time": "2019-08-02T03:48:11.114658Z"
    }
   },
   "outputs": [],
   "source": [
    "# test a query\n",
    "query = texts[0]\n",
    "instance = WmdSimilarity(nose_texts, model, num_best=10)\n",
    "sims = instance[query]"
   ]
  },
  {
   "cell_type": "code",
   "execution_count": 94,
   "metadata": {
    "ExecuteTime": {
     "end_time": "2019-08-02T04:03:09.512999Z",
     "start_time": "2019-08-02T04:03:09.454627Z"
    }
   },
   "outputs": [
    {
     "data": {
      "text/html": [
       "<div>\n",
       "<style scoped>\n",
       "    .dataframe tbody tr th:only-of-type {\n",
       "        vertical-align: middle;\n",
       "    }\n",
       "\n",
       "    .dataframe tbody tr th {\n",
       "        vertical-align: top;\n",
       "    }\n",
       "\n",
       "    .dataframe thead th {\n",
       "        text-align: right;\n",
       "    }\n",
       "</style>\n",
       "<table border=\"1\" class=\"dataframe\">\n",
       "  <thead>\n",
       "    <tr style=\"text-align: right;\">\n",
       "      <th></th>\n",
       "      <th>Name</th>\n",
       "      <th>itemnumber</th>\n",
       "      <th>RedditWhiskyIDs</th>\n",
       "      <th>reviewIDs</th>\n",
       "      <th>rating_mean</th>\n",
       "      <th>rating_std</th>\n",
       "      <th>style</th>\n",
       "      <th>nose</th>\n",
       "      <th>taste</th>\n",
       "      <th>finish</th>\n",
       "    </tr>\n",
       "  </thead>\n",
       "  <tbody>\n",
       "    <tr>\n",
       "      <th>405</th>\n",
       "      <td>WILD TURKEY 101 KENTUCKY STRAIGHT BOURBON</td>\n",
       "      <td>479949</td>\n",
       "      <td>[7652, 7653, 7654, 7657, 7658, 7659, 7660, 766...</td>\n",
       "      <td>[30255, 30256, 30257, 30258, 30259, 30260, 302...</td>\n",
       "      <td>82.778947</td>\n",
       "      <td>7.602042</td>\n",
       "      <td>Bourbon</td>\n",
       "      <td>[fruity, overpower, alcohol, scent, sweet, cre...</td>\n",
       "      <td>[strong, oak, flavor, entire, mouth, initial, ...</td>\n",
       "      <td>[long, warm, burn, spicy, cinnamon, oak, tangy...</td>\n",
       "    </tr>\n",
       "    <tr>\n",
       "      <th>406</th>\n",
       "      <td>WILD TURKEY 81 PROOF KENTUCKY STRAIGHT BOURBON</td>\n",
       "      <td>281824</td>\n",
       "      <td>[7686]</td>\n",
       "      <td>[30417, 30418, 30419, 30420, 30421, 30422, 304...</td>\n",
       "      <td>74.000000</td>\n",
       "      <td>10.322086</td>\n",
       "      <td>Bourbon</td>\n",
       "      <td>[vanilla, toffee, cinnamon, funk, background, ...</td>\n",
       "      <td>[oak, low, heat…, proof, oxidize, decade, expe...</td>\n",
       "      <td>[light, spice, short, clean, honestly, chug, p...</td>\n",
       "    </tr>\n",
       "    <tr>\n",
       "      <th>407</th>\n",
       "      <td>WILD TURKEY LONGBRANCH</td>\n",
       "      <td>575001</td>\n",
       "      <td>[7723]</td>\n",
       "      <td>[30519, 30520, 30521, 30522, 30523]</td>\n",
       "      <td>75.200000</td>\n",
       "      <td>10.425929</td>\n",
       "      <td>Bourbon</td>\n",
       "      <td>[light, easy, smell, like, typical, bourbon, v...</td>\n",
       "      <td>[like, nose, sweet, oak, light, term, heat, su...</td>\n",
       "      <td>[light, warmth, medium, length, mellow, corn, ...</td>\n",
       "    </tr>\n",
       "    <tr>\n",
       "      <th>408</th>\n",
       "      <td>WILD TURKEY RARE BREED KENTUCKY STRAIGHT BOURBON</td>\n",
       "      <td>455329</td>\n",
       "      <td>[7681, 7682, 7683, 7684, 7685, 7693, 7695, 769...</td>\n",
       "      <td>[30409, 30410, 31487, 30412, 30413, 30414, 304...</td>\n",
       "      <td>84.130137</td>\n",
       "      <td>8.312238</td>\n",
       "      <td>Bourbon</td>\n",
       "      <td>[cinnamon, nutmeg, honey, molasses, ginger, ol...</td>\n",
       "      <td>[damp, decay, oak, raisin, fig, savory, cream,...</td>\n",
       "      <td>[dry, rich, oak, currantsbalance, little, dry,...</td>\n",
       "    </tr>\n",
       "  </tbody>\n",
       "</table>\n",
       "</div>"
      ],
      "text/plain": [
       "                                                 Name  itemnumber  \\\n",
       "405         WILD TURKEY 101 KENTUCKY STRAIGHT BOURBON      479949   \n",
       "406    WILD TURKEY 81 PROOF KENTUCKY STRAIGHT BOURBON      281824   \n",
       "407                            WILD TURKEY LONGBRANCH      575001   \n",
       "408  WILD TURKEY RARE BREED KENTUCKY STRAIGHT BOURBON      455329   \n",
       "\n",
       "                                       RedditWhiskyIDs  \\\n",
       "405  [7652, 7653, 7654, 7657, 7658, 7659, 7660, 766...   \n",
       "406                                             [7686]   \n",
       "407                                             [7723]   \n",
       "408  [7681, 7682, 7683, 7684, 7685, 7693, 7695, 769...   \n",
       "\n",
       "                                             reviewIDs  rating_mean  \\\n",
       "405  [30255, 30256, 30257, 30258, 30259, 30260, 302...    82.778947   \n",
       "406  [30417, 30418, 30419, 30420, 30421, 30422, 304...    74.000000   \n",
       "407                [30519, 30520, 30521, 30522, 30523]    75.200000   \n",
       "408  [30409, 30410, 31487, 30412, 30413, 30414, 304...    84.130137   \n",
       "\n",
       "     rating_std    style                                               nose  \\\n",
       "405    7.602042  Bourbon  [fruity, overpower, alcohol, scent, sweet, cre...   \n",
       "406   10.322086  Bourbon  [vanilla, toffee, cinnamon, funk, background, ...   \n",
       "407   10.425929  Bourbon  [light, easy, smell, like, typical, bourbon, v...   \n",
       "408    8.312238  Bourbon  [cinnamon, nutmeg, honey, molasses, ginger, ol...   \n",
       "\n",
       "                                                 taste  \\\n",
       "405  [strong, oak, flavor, entire, mouth, initial, ...   \n",
       "406  [oak, low, heat…, proof, oxidize, decade, expe...   \n",
       "407  [like, nose, sweet, oak, light, term, heat, su...   \n",
       "408  [damp, decay, oak, raisin, fig, savory, cream,...   \n",
       "\n",
       "                                                finish  \n",
       "405  [long, warm, burn, spicy, cinnamon, oak, tangy...  \n",
       "406  [light, spice, short, clean, honestly, chug, p...  \n",
       "407  [light, warmth, medium, length, mellow, corn, ...  \n",
       "408  [dry, rich, oak, currantsbalance, little, dry,...  "
      ]
     },
     "execution_count": 94,
     "metadata": {},
     "output_type": "execute_result"
    }
   ],
   "source": [
    "#whiskyp.reset_index()['Wild'.instr('Name')]\n",
    "\n",
    "whiskyp.reset_index()[whiskyp.reset_index()['Name'].str.contains(\"WILD\")]"
   ]
  },
  {
   "cell_type": "code",
   "execution_count": 96,
   "metadata": {
    "ExecuteTime": {
     "end_time": "2019-08-02T05:10:54.712923Z",
     "start_time": "2019-08-02T04:04:06.080658Z"
    },
    "scrolled": true
   },
   "outputs": [
    {
     "name": "stdout",
     "output_type": "stream",
     "text": [
      "Query:\n",
      "WILD TURKEY 101 KENTUCKY STRAIGHT BOURBON\n",
      "1.0\n",
      "WILD TURKEY 101 KENTUCKY STRAIGHT BOURBON\n",
      "0.8042383562254684\n",
      "WILD TURKEY RARE BREED KENTUCKY STRAIGHT BOURBON\n",
      "0.7762301146185003\n",
      "FOUR ROSES SMALL BATCH BOURBON\n",
      "0.7696283984608991\n",
      "FOUR ROSES SINGLE BARREL BOURBON\n",
      "0.7654284210558634\n",
      "WELLER ANTIQUE 107 ORIGINAL WHEATED STRAIGHT BOURBON\n",
      "0.7628704056238182\n",
      "EVAN WILLIAMS SINGLE BARREL BOURBON\n",
      "0.7620007955997348\n",
      "W. L. WELLER 12-YEAR-OLD KENTUCKY STRAIGHT BOURBON\n",
      "0.7599252339170192\n",
      "BLANTON'S SINGLE BARREL SPECIAL RESERVE KENTUCKY STRAIGHT BOURBON\n",
      "0.7590844822987646\n",
      "OLD FORESTER\n",
      "0.7589574820605155\n",
      "COLONEL E.H. TAYLOR SINGLE BARREL KENTUCKY STRAIGHT BOURBON\n"
     ]
    }
   ],
   "source": [
    "num = 405\n",
    "\n",
    "# test a query\n",
    "query = texts[num]\n",
    "instance = WmdSimilarity(nose_texts, model, num_best=10)\n",
    "sims = instance[query]\n",
    "\n",
    "# Print the query and the retrieved documents, together with their similarities.\n",
    "print ('Query:')\n",
    "#print (query)\n",
    "print(whiskyp.reset_index().Name.iloc[num])\n",
    "\n",
    "\n",
    "#print \n",
    "for i in range(num_best):\n",
    "    print(sims[i][1])\n",
    "    #print (nose_texts[sims[i][0]])\n",
    "    print(whiskyp.reset_index().Name.iloc[sims[i][0]])"
   ]
  },
  {
   "cell_type": "code",
   "execution_count": 95,
   "metadata": {
    "ExecuteTime": {
     "end_time": "2019-08-02T04:03:26.195905Z",
     "start_time": "2019-08-02T04:03:26.151635Z"
    }
   },
   "outputs": [
    {
     "name": "stdout",
     "output_type": "stream",
     "text": [
      "Query:\n",
      "WILD TURKEY 101 KENTUCKY STRAIGHT BOURBON\n",
      "1.0\n",
      "12 YO KNAPPOGUE CASTLE IRISH SINGLE MALT WHISKEY\n",
      "0.6830856045566778\n",
      "BALBLAIR 2005 HIGHLAND SINGLE MALT SCOTCH WHISKY\n",
      "0.6792056200964628\n",
      "THE GLENLIVET 18 YEAR OLD SINGLE MALT SCOTCH WHISKY\n",
      "0.6770222442160191\n",
      "ANCNOC 12 YEAR OLD SINGLE MALT SCOTCH WHISKY\n",
      "0.6759695414511607\n",
      "DEANSTON 12 YEAR OLD SINGLE MALT\n",
      "0.6745762423530303\n",
      "AULTMORE 12 YEAR OLD SPEYSIDE SINGLE MALT SCOTCH WHISKY\n",
      "0.6730929201080825\n",
      "THE ARRAN MALT ISLE OF ARRAN 14-YEAR-OLD SINGLE MALT SCOTCH WHISKY\n",
      "0.6723053109898927\n",
      "THE BALVENIE 15-YEAR-OLD SINGLE BARREL SPEYSIDE SINGLE MALT SCOTCH WHISKY\n",
      "0.6719093778709909\n",
      "THE ARRAN MALT 10-YEAR-OLD SINGLE MALT SCOTCH WHISKY\n",
      "0.6707176608302594\n",
      "THE BALVENIE 12 YEAR OLD SINGLE BARREL SCOTCH WHISKY\n"
     ]
    }
   ],
   "source": [
    "\n",
    "# Print the query and the retrieved documents, together with their similarities.\n",
    "print ('Query:')\n",
    "#print (query)\n",
    "print(whiskyp.reset_index().Name.iloc[405])\n",
    "#print \n",
    "for i in range(num_best):\n",
    "    print(sims[i][1])\n",
    "    #print (nose_texts[sims[i][0]])\n",
    "    print(whiskyp.reset_index().Name.iloc[sims[i][0]])"
   ]
  },
  {
   "cell_type": "code",
   "execution_count": 83,
   "metadata": {
    "ExecuteTime": {
     "end_time": "2019-08-02T03:59:08.327180Z",
     "start_time": "2019-08-02T03:59:08.317551Z"
    }
   },
   "outputs": [
    {
     "data": {
      "text/plain": [
       "'12 YO KNAPPOGUE CASTLE IRISH SINGLE MALT WHISKEY'"
      ]
     },
     "execution_count": 83,
     "metadata": {},
     "output_type": "execute_result"
    }
   ],
   "source": [
    "whiskyp.reset_index().Name.iloc[0]"
   ]
  }
 ],
 "metadata": {
  "kernelspec": {
   "display_name": "Python 3",
   "language": "python",
   "name": "python3"
  },
  "language_info": {
   "codemirror_mode": {
    "name": "ipython",
    "version": 3
   },
   "file_extension": ".py",
   "mimetype": "text/x-python",
   "name": "python",
   "nbconvert_exporter": "python",
   "pygments_lexer": "ipython3",
   "version": "3.6.8"
  },
  "toc": {
   "base_numbering": 1,
   "nav_menu": {},
   "number_sections": true,
   "sideBar": true,
   "skip_h1_title": false,
   "title_cell": "Table of Contents",
   "title_sidebar": "Contents",
   "toc_cell": false,
   "toc_position": {},
   "toc_section_display": true,
   "toc_window_display": false
  }
 },
 "nbformat": 4,
 "nbformat_minor": 2
}

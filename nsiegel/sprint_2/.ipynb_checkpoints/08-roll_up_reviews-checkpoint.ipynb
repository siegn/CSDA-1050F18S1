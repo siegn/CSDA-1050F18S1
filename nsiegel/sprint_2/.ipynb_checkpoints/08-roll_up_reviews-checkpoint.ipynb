{
 "cells": [
  {
   "cell_type": "markdown",
   "metadata": {},
   "source": [
    "Also, gensim is a great library for this task. I would look at word-movers distance too - amazing little algorithm. You'll likely be doing what is called \"document similarity classification\" - where the whisky profiles are the documents and you're trying to \"group\" them on profile content, or, user preferences...which is where it switches from a clustering to a classification problem in some respects. "
   ]
  },
  {
   "cell_type": "markdown",
   "metadata": {},
   "source": [
    "## Load Libraries and Data"
   ]
  },
  {
   "cell_type": "code",
   "execution_count": 69,
   "metadata": {
    "ExecuteTime": {
     "end_time": "2019-08-01T23:50:21.547871Z",
     "start_time": "2019-08-01T23:50:21.542222Z"
    }
   },
   "outputs": [],
   "source": [
    "import pandas as pd\n",
    "from gensim.parsing.preprocessing import preprocess_string, strip_tags, strip_punctuation, \\\n",
    "     strip_multiple_whitespaces, strip_numeric, remove_stopwords, strip_short\n",
    "import re\n",
    "from nltk.stem import WordNetLemmatizer \n",
    "from nltk import pos_tag\n",
    "from nltk.corpus import wordnet"
   ]
  },
  {
   "cell_type": "code",
   "execution_count": 71,
   "metadata": {
    "ExecuteTime": {
     "end_time": "2019-08-01T23:50:26.694531Z",
     "start_time": "2019-08-01T23:50:26.432724Z"
    }
   },
   "outputs": [],
   "source": [
    "reviews = pd.read_parquet('data/review_cats.parquet')"
   ]
  },
  {
   "cell_type": "markdown",
   "metadata": {},
   "source": [
    "## Roll up to Whisky Level"
   ]
  },
  {
   "cell_type": "markdown",
   "metadata": {},
   "source": [
    "We can join back on other tables to get most information, what we are looking for is whisky itemnumber, aggregated review score, and aggregated nose, taste, and finish words."
   ]
  },
  {
   "cell_type": "code",
   "execution_count": 74,
   "metadata": {
    "ExecuteTime": {
     "end_time": "2019-08-01T23:50:44.910309Z",
     "start_time": "2019-08-01T23:50:44.447351Z"
    }
   },
   "outputs": [
    {
     "data": {
      "text/html": [
       "<div>\n",
       "<style scoped>\n",
       "    .dataframe tbody tr th:only-of-type {\n",
       "        vertical-align: middle;\n",
       "    }\n",
       "\n",
       "    .dataframe tbody tr th {\n",
       "        vertical-align: top;\n",
       "    }\n",
       "\n",
       "    .dataframe thead th {\n",
       "        text-align: right;\n",
       "    }\n",
       "</style>\n",
       "<table border=\"1\" class=\"dataframe\">\n",
       "  <thead>\n",
       "    <tr style=\"text-align: right;\">\n",
       "      <th></th>\n",
       "      <th></th>\n",
       "      <th>RedditWhiskyIDs</th>\n",
       "      <th>reviewIDs</th>\n",
       "      <th>rating_mean</th>\n",
       "      <th>rating_std</th>\n",
       "      <th>style</th>\n",
       "      <th>nose</th>\n",
       "      <th>taste</th>\n",
       "      <th>finish</th>\n",
       "    </tr>\n",
       "    <tr>\n",
       "      <th>Name</th>\n",
       "      <th>itemnumber</th>\n",
       "      <th></th>\n",
       "      <th></th>\n",
       "      <th></th>\n",
       "      <th></th>\n",
       "      <th></th>\n",
       "      <th></th>\n",
       "      <th></th>\n",
       "      <th></th>\n",
       "    </tr>\n",
       "  </thead>\n",
       "  <tbody>\n",
       "    <tr>\n",
       "      <th>12 YO KNAPPOGUE CASTLE IRISH SINGLE MALT WHISKEY</th>\n",
       "      <th>619320</th>\n",
       "      <td>[5277, 5278, 5279]</td>\n",
       "      <td>[20457, 20458, 20459, 20460, 20461, 20462, 204...</td>\n",
       "      <td>75.100000</td>\n",
       "      <td>8.020114</td>\n",
       "      <td>Ireland</td>\n",
       "      <td>n crisp apple, lots of peach, vanilla, honey. ...</td>\n",
       "      <td>p its fresh and fruity again, lots of peaches ...</td>\n",
       "      <td>f fruity and malty. the malt dies off quickly ...</td>\n",
       "    </tr>\n",
       "    <tr>\n",
       "      <th>1792 SINGLE BARREL KENTUCKY STRAIGHT BOURBON WHISKY</th>\n",
       "      <th>496729</th>\n",
       "      <td>[24, 20, 21, 23]</td>\n",
       "      <td>[60, 61, 62, 63, 65, 66]</td>\n",
       "      <td>72.166667</td>\n",
       "      <td>9.042492</td>\n",
       "      <td>Bourbon</td>\n",
       "      <td>sweet corn, oak, cotton candy/birthday cake, ...</td>\n",
       "      <td>seaweed, corn, mint, brown sugar crackers, br...</td>\n",
       "      <td>edamame, ginger, wheat, werther's, corn mediu...</td>\n",
       "    </tr>\n",
       "    <tr>\n",
       "      <th>1792 SMALL BATCH KENTUCKY STRAIGHT BOURBON</th>\n",
       "      <th>208918</th>\n",
       "      <td>[25]</td>\n",
       "      <td>[67, 68, 69, 70, 71, 72, 73, 74, 75, 76]</td>\n",
       "      <td>76.200000</td>\n",
       "      <td>4.263541</td>\n",
       "      <td>Bourbon</td>\n",
       "      <td>this is the 1792 i remember. custard and bana...</td>\n",
       "      <td>again, similar to my recollections. hotter th...</td>\n",
       "      <td>dry. wood char, barrel flavour. yeasty? herba...</td>\n",
       "    </tr>\n",
       "    <tr>\n",
       "      <th>601 BOURBON</th>\n",
       "      <th>634519</th>\n",
       "      <td>[29]</td>\n",
       "      <td>[97]</td>\n",
       "      <td>58.000000</td>\n",
       "      <td>NaN</td>\n",
       "      <td>Bourbon</td>\n",
       "      <td>grain funk, milled corn, herbal, wet dirt. sm...</td>\n",
       "      <td>young sharp corn graininess, astringent, copp...</td>\n",
       "      <td>short, medium warmth, canned corn and oak not...</td>\n",
       "    </tr>\n",
       "    <tr>\n",
       "      <th>ABERFELDY 12 YEAR OLD</th>\n",
       "      <th>255281</th>\n",
       "      <td>[36, 37]</td>\n",
       "      <td>[113, 114, 115, 116, 117, 118, 119, 120, 121, ...</td>\n",
       "      <td>76.931034</td>\n",
       "      <td>6.181372</td>\n",
       "      <td>Highland</td>\n",
       "      <td>•\\t slight salty tones, but also a bit of swee...</td>\n",
       "      <td>•\\t fairly sweet, a fair bit of burn, plums, a...</td>\n",
       "      <td>let's start with the arran sauternes cask   •\\...</td>\n",
       "    </tr>\n",
       "  </tbody>\n",
       "</table>\n",
       "</div>"
      ],
      "text/plain": [
       "                                                                  RedditWhiskyIDs  \\\n",
       "Name                                               itemnumber                       \n",
       "12 YO KNAPPOGUE CASTLE IRISH SINGLE MALT WHISKEY   619320      [5277, 5278, 5279]   \n",
       "1792 SINGLE BARREL KENTUCKY STRAIGHT BOURBON WH... 496729        [24, 20, 21, 23]   \n",
       "1792 SMALL BATCH KENTUCKY STRAIGHT BOURBON         208918                    [25]   \n",
       "601 BOURBON                                        634519                    [29]   \n",
       "ABERFELDY 12 YEAR OLD                              255281                [36, 37]   \n",
       "\n",
       "                                                                                                       reviewIDs  \\\n",
       "Name                                               itemnumber                                                      \n",
       "12 YO KNAPPOGUE CASTLE IRISH SINGLE MALT WHISKEY   619320      [20457, 20458, 20459, 20460, 20461, 20462, 204...   \n",
       "1792 SINGLE BARREL KENTUCKY STRAIGHT BOURBON WH... 496729                               [60, 61, 62, 63, 65, 66]   \n",
       "1792 SMALL BATCH KENTUCKY STRAIGHT BOURBON         208918               [67, 68, 69, 70, 71, 72, 73, 74, 75, 76]   \n",
       "601 BOURBON                                        634519                                                   [97]   \n",
       "ABERFELDY 12 YEAR OLD                              255281      [113, 114, 115, 116, 117, 118, 119, 120, 121, ...   \n",
       "\n",
       "                                                               rating_mean  \\\n",
       "Name                                               itemnumber                \n",
       "12 YO KNAPPOGUE CASTLE IRISH SINGLE MALT WHISKEY   619320        75.100000   \n",
       "1792 SINGLE BARREL KENTUCKY STRAIGHT BOURBON WH... 496729        72.166667   \n",
       "1792 SMALL BATCH KENTUCKY STRAIGHT BOURBON         208918        76.200000   \n",
       "601 BOURBON                                        634519        58.000000   \n",
       "ABERFELDY 12 YEAR OLD                              255281        76.931034   \n",
       "\n",
       "                                                               rating_std  \\\n",
       "Name                                               itemnumber               \n",
       "12 YO KNAPPOGUE CASTLE IRISH SINGLE MALT WHISKEY   619320        8.020114   \n",
       "1792 SINGLE BARREL KENTUCKY STRAIGHT BOURBON WH... 496729        9.042492   \n",
       "1792 SMALL BATCH KENTUCKY STRAIGHT BOURBON         208918        4.263541   \n",
       "601 BOURBON                                        634519             NaN   \n",
       "ABERFELDY 12 YEAR OLD                              255281        6.181372   \n",
       "\n",
       "                                                                  style  \\\n",
       "Name                                               itemnumber             \n",
       "12 YO KNAPPOGUE CASTLE IRISH SINGLE MALT WHISKEY   619320       Ireland   \n",
       "1792 SINGLE BARREL KENTUCKY STRAIGHT BOURBON WH... 496729       Bourbon   \n",
       "1792 SMALL BATCH KENTUCKY STRAIGHT BOURBON         208918       Bourbon   \n",
       "601 BOURBON                                        634519       Bourbon   \n",
       "ABERFELDY 12 YEAR OLD                              255281      Highland   \n",
       "\n",
       "                                                                                                            nose  \\\n",
       "Name                                               itemnumber                                                      \n",
       "12 YO KNAPPOGUE CASTLE IRISH SINGLE MALT WHISKEY   619320      n crisp apple, lots of peach, vanilla, honey. ...   \n",
       "1792 SINGLE BARREL KENTUCKY STRAIGHT BOURBON WH... 496729       sweet corn, oak, cotton candy/birthday cake, ...   \n",
       "1792 SMALL BATCH KENTUCKY STRAIGHT BOURBON         208918       this is the 1792 i remember. custard and bana...   \n",
       "601 BOURBON                                        634519       grain funk, milled corn, herbal, wet dirt. sm...   \n",
       "ABERFELDY 12 YEAR OLD                              255281      •\\t slight salty tones, but also a bit of swee...   \n",
       "\n",
       "                                                                                                           taste  \\\n",
       "Name                                               itemnumber                                                      \n",
       "12 YO KNAPPOGUE CASTLE IRISH SINGLE MALT WHISKEY   619320      p its fresh and fruity again, lots of peaches ...   \n",
       "1792 SINGLE BARREL KENTUCKY STRAIGHT BOURBON WH... 496729       seaweed, corn, mint, brown sugar crackers, br...   \n",
       "1792 SMALL BATCH KENTUCKY STRAIGHT BOURBON         208918       again, similar to my recollections. hotter th...   \n",
       "601 BOURBON                                        634519       young sharp corn graininess, astringent, copp...   \n",
       "ABERFELDY 12 YEAR OLD                              255281      •\\t fairly sweet, a fair bit of burn, plums, a...   \n",
       "\n",
       "                                                                                                          finish  \n",
       "Name                                               itemnumber                                                     \n",
       "12 YO KNAPPOGUE CASTLE IRISH SINGLE MALT WHISKEY   619320      f fruity and malty. the malt dies off quickly ...  \n",
       "1792 SINGLE BARREL KENTUCKY STRAIGHT BOURBON WH... 496729       edamame, ginger, wheat, werther's, corn mediu...  \n",
       "1792 SMALL BATCH KENTUCKY STRAIGHT BOURBON         208918       dry. wood char, barrel flavour. yeasty? herba...  \n",
       "601 BOURBON                                        634519       short, medium warmth, canned corn and oak not...  \n",
       "ABERFELDY 12 YEAR OLD                              255281      let's start with the arran sauternes cask   •\\...  "
      ]
     },
     "execution_count": 74,
     "metadata": {},
     "output_type": "execute_result"
    }
   ],
   "source": [
    "# define a custom aggregation function that returns a concatenated version of all strings in the group by\n",
    "def words(col):\n",
    "    return ''.join(col)\n",
    "\n",
    "# and a custom aggregation to hold the Reddit review Id's and Reddit whisky Ids we've joined,\n",
    "# in case we ever want to go backwards\n",
    "def distinctlist(col):\n",
    "    return list(set(list(col)))\n",
    "\n",
    "# create rolled up dataframe\n",
    "whisky = (reviews[['rating','style','nose','taste','finish', 'RedditWhiskyID', 'reviewID', 'Name', 'itemnumber']]\n",
    "         .groupby(['Name','itemnumber'])\n",
    "         .agg({\n",
    "             'RedditWhiskyID': distinctlist,\n",
    "             'reviewID': list,\n",
    "             'rating': ['mean','std'],\n",
    "             'style': pd.Series.mode,\n",
    "             'nose': words,\n",
    "             'taste': words,\n",
    "             'finish': words\n",
    "             }\n",
    "            )\n",
    ")\n",
    "\n",
    "# collapse multiindex on columns\n",
    "whisky.columns = ['_'.join(col).strip() for col in whisky.columns.values]\n",
    "\n",
    "# rename columns\n",
    "whisky = whisky.rename({'RedditWhiskyID_distinctlist': 'RedditWhiskyIDs',\n",
    "              'reviewID_list': 'reviewIDs',\n",
    "              'style_mode':'style',\n",
    "              'nose_words':'nose',\n",
    "              'taste_words':'taste',\n",
    "              'finish_words':'finish'\n",
    "             }, axis='columns')\n",
    "\n",
    "\n",
    "\n",
    "whisky.head()"
   ]
  },
  {
   "cell_type": "markdown",
   "metadata": {},
   "source": [
    "## Preprocess Reviews"
   ]
  },
  {
   "cell_type": "markdown",
   "metadata": {},
   "source": [
    "Gensim has some nifty preprocessing functions. \n",
    "Here we define a list of filters we want to run on the data, then apply it to our reviews.\n",
    "The problem is that there are some limitations to the built in function so we will need to define our own in addition:\n",
    "\n",
    "- Standard filters don't catch some funny apostrophe's and quotation marks so we will replace those.\n",
    "- Gensim lemmatizing library requires some python2 dependencies so we'll use nltk instead."
   ]
  },
  {
   "cell_type": "code",
   "execution_count": null,
   "metadata": {
    "ExecuteTime": {
     "start_time": "2019-08-01T23:52:36.222Z"
    },
    "scrolled": false
   },
   "outputs": [],
   "source": [
    "whiskyp = whisky\n",
    "\n",
    "# The standard filters aren't catching the funny quotation and apostrophe's in some reviews so add a new function:\n",
    "def fix_apostrophes(s):\n",
    "    return re.sub('“|”|’', '', s)\n",
    "\n",
    "# gensim has a lemmatizer but it requires some libraries that haven't been updated to python 3,\n",
    "# and it doesn't handle position tags as well.\n",
    "# here we define a lemmatize function that tags words first and converts nltk tags to wordnet tags.\n",
    "def lemmatize_text(text):\n",
    "    \n",
    "    lemmatizer = WordNetLemmatizer() \n",
    "\n",
    "    lemmatized_output = \" \".join([lemmatizer.lemmatize(w, get_wordnet_pos(w)) for w in nltk.word_tokenize(text)])\n",
    "    return lemmatized_output\n",
    "\n",
    "def get_wordnet_pos(word):\n",
    "    tag = nltk.pos_tag([word])[0][1][0].upper()\n",
    "    tag_dict = {\"J\": wordnet.ADJ,\n",
    "                \"N\": wordnet.NOUN,\n",
    "                \"V\": wordnet.VERB,\n",
    "                \"R\": wordnet.ADV}\n",
    "    return tag_dict.get(tag, wordnet.NOUN)\n",
    "\n",
    "# List all of the functions we want to apply\n",
    "CUSTOM_FILTERS = [lambda x: x.lower(),         # make everything lowercase\n",
    "                  fix_apostrophes,             # replace weird apostrophes and quotes with normal ones\n",
    "                  strip_tags,                  # remove any html tags that might have ended up in here\n",
    "                  lemmatize_text,              # tag word position then lemmatize\n",
    "                  strip_punctuation,           # remove all punctuation\n",
    "                  strip_short,                 # remove words less than 3 letters\n",
    "                  strip_multiple_whitespaces,  # trip duplicated whitespace\n",
    "                  strip_numeric,               # remove all numbers\n",
    "                  remove_stopwords             # remove stopwords such as the, and, etc\n",
    "                 ]\n",
    "\n",
    "# process columns\n",
    "for column in ['nose','taste','finish']:\n",
    "    whiskyp[column] = whiskyp.apply(lambda row: preprocess_string(row[column], CUSTOM_FILTERS), axis='columns')\n",
    "\n",
    "# take a look\n",
    "whiskyp.head()"
   ]
  },
  {
   "cell_type": "markdown",
   "metadata": {},
   "source": [
    "## Save to File"
   ]
  },
  {
   "cell_type": "code",
   "execution_count": 67,
   "metadata": {
    "ExecuteTime": {
     "end_time": "2019-08-01T23:49:10.213384Z",
     "start_time": "2019-08-01T23:49:10.200494Z"
    }
   },
   "outputs": [],
   "source": [
    "# convert datatype of column\n",
    "whiskyp['style'] = whiskyp['style'].astype('str')"
   ]
  },
  {
   "cell_type": "code",
   "execution_count": 68,
   "metadata": {
    "ExecuteTime": {
     "end_time": "2019-08-01T23:49:13.083677Z",
     "start_time": "2019-08-01T23:49:12.887618Z"
    },
    "scrolled": true
   },
   "outputs": [
    {
     "name": "stderr",
     "output_type": "stream",
     "text": [
      "/opt/tljh/user/lib/python3.6/site-packages/pyarrow/pandas_compat.py:114: FutureWarning: A future version of pandas will default to `skipna=True`. To silence this warning, pass `skipna=True|False` explicitly.\n"
     ]
    }
   ],
   "source": [
    "whiskyp.to_parquet('data/whisky_processed.parquet')"
   ]
  }
 ],
 "metadata": {
  "kernelspec": {
   "display_name": "Python 3",
   "language": "python",
   "name": "python3"
  },
  "language_info": {
   "codemirror_mode": {
    "name": "ipython",
    "version": 3
   },
   "file_extension": ".py",
   "mimetype": "text/x-python",
   "name": "python",
   "nbconvert_exporter": "python",
   "pygments_lexer": "ipython3",
   "version": "3.6.8"
  },
  "toc": {
   "base_numbering": 1,
   "nav_menu": {},
   "number_sections": true,
   "sideBar": true,
   "skip_h1_title": false,
   "title_cell": "Table of Contents",
   "title_sidebar": "Contents",
   "toc_cell": false,
   "toc_position": {},
   "toc_section_display": true,
   "toc_window_display": false
  }
 },
 "nbformat": 4,
 "nbformat_minor": 2
}
